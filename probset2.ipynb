{
 "cells": [
  {
   "cell_type": "markdown",
   "metadata": {},
   "source": [
    "## Stats 211 Problem set 2\n",
    "\n",
    "[Andrew Martin]\n",
    "\n",
    "[Colleges Institutional Debts] \n",
    "\n",
    "[02/16/24]"
   ]
  },
  {
   "cell_type": "markdown",
   "metadata": {},
   "source": [
    "### 1. Explain any new or revised hypotheses for interval ratio data from your own project or from Charlie's grant and loan repayment data\n",
    "\n",
    "[Your answer here should explain:\n",
    "1. What are your dependent variables? Why do they interest you?\n",
    "2. What are your independent variables? What direction to you hypothesize will be the relationship between your dependent variable and your dependent variables?\n",
    "3. Why do you think your dependent variables are associated with your independent variables?\n",
    "4. What are your control variables? Do you think they will show any spurious, intervening, or interactive relationships? Why?]\n",
    "\n",
    "If you are working with the grant and loan repayment data, formulate hypotheses about:\n",
    "1. The relationship between state grant aid per student and the level of research at a university\n",
    "2. The relationship between loan repayment and college net price for low-income students. The later variable is name **netprice4lowincome**"
   ]
  },
  {
   "cell_type": "markdown",
   "metadata": {},
   "source": [
    "Hypothesis: States provide a greater amount of funding for students at universities that conduct a higher level of research. The dependent variable is\n",
    "students receiving state grants and the indenpendent variable is a colleges research intensity. Given that university research is increasingly perceived and understood as producing products and actions that can aid a states operation and own budgets, I suspect that states will direct a higher amount of funding to universities that are conducting research as opposed to those that are not. \n",
    "\n"
   ]
  },
  {
   "cell_type": "markdown",
   "metadata": {},
   "source": [
    "### 2. Setting up your session\n",
    "\n",
    "In the code cell below, do the following:\n",
    "\n",
    "1. set current directory \n",
    "2. set more off \n",
    "3. create log file \n",
    "4. download the data from its source if it's available online\n",
    "5. read the data in [preferably only variables you are going to use]"
   ]
  },
  {
   "cell_type": "code",
   "execution_count": 1,
   "metadata": {
    "tags": []
   },
   "outputs": [
    {
     "data": {
      "text/html": [
       "<style>div.jp-Notebook .datagrid-container {min-height: 448px; }</style>"
      ],
      "text/plain": [
       "<IPython.core.display.HTML object>"
      ]
     },
     "metadata": {},
     "output_type": "display_data"
    },
    {
     "name": "stdout",
     "output_type": "stream",
     "text": [
      "C:\\Users\\rabid\\Desktop\\01_Grad_Stats_II\\soc211_assignments\\week5\n"
     ]
    }
   ],
   "source": [
    "cd C:\\Users\\rabid\\Desktop\\01_Grad_Stats_II\\soc211_assignments\\week5"
   ]
  },
  {
   "cell_type": "code",
   "execution_count": 2,
   "metadata": {
    "tags": []
   },
   "outputs": [
    {
     "name": "stdout",
     "output_type": "stream",
     "text": [
      "(-set more- irrelevant in this version of Stata)\n"
     ]
    }
   ],
   "source": [
    "set more off"
   ]
  },
  {
   "cell_type": "code",
   "execution_count": 3,
   "metadata": {
    "tags": []
   },
   "outputs": [
    {
     "name": "stdout",
     "output_type": "stream",
     "text": [
      "-------------------------------------------------------------------------------\n",
      "      name:  <unnamed>\n",
      "       log:  C:\\Users\\rabid\\Desktop\\01_Grad_Stats_II\\soc211_assignments\\week5\\L\n",
      "> og for Research Assignment 2.log\n",
      "  log type:  text\n",
      " opened on:  21 Feb 2024, 13:27:17\n"
     ]
    }
   ],
   "source": [
    "log using \"Log for Research Assignment 2.log\", replace"
   ]
  },
  {
   "cell_type": "code",
   "execution_count": 23,
   "metadata": {
    "tags": []
   },
   "outputs": [
    {
     "name": "stdout",
     "output_type": "stream",
     "text": [
      "(8 vars, 581 obs)\n"
     ]
    }
   ],
   "source": [
    "insheet using grants2015_college_affordability20200218.csv, clear"
   ]
  },
  {
   "cell_type": "code",
   "execution_count": 24,
   "metadata": {
    "tags": []
   },
   "outputs": [],
   "source": [
    "quietly {\n",
    "rename hgroup hgroupstring\n",
    "encode hgroupstring, gen(hgrouptemp)\n",
    "recode hgrouptemp (1=1 \"Highest\") (2=3 \"High\") (3=2 \"Very high\") (4=4 \"Some/None\"), gen(hgroup)\n",
    "qui label var igrnt_low \"institutional grant $ per fte\"\n",
    "qui label var sgrnt_low \"state grant $ per fte\"\n",
    "qui label var hgroup \"research level\"\n",
    "}"
   ]
  },
  {
   "cell_type": "code",
   "execution_count": 25,
   "metadata": {
    "tags": []
   },
   "outputs": [
    {
     "name": "stdout",
     "output_type": "stream",
     "text": [
      "year          stabbr        hgroupstring  igrnt_low_~c  hgrouptemp\n",
      "instnm        control       highdeg       sgrnt_low_~c  hgroup\n"
     ]
    }
   ],
   "source": [
    "ds"
   ]
  },
  {
   "cell_type": "markdown",
   "metadata": {},
   "source": [
    "QUESTION: How are we supposed to know [hgroupstring] is the variable group for \"Level of Research at University\"? Could not find a codebook that made this\n",
    "clear?"
   ]
  },
  {
   "cell_type": "markdown",
   "metadata": {},
   "source": [
    "QUESTION: How are we supposed to know how are running a control on the [hgroup] variable? Seemingly by selecting different states and finding a pattern\n",
    "beyond just a single state would allow for control, but how do we demonstrate that we are doing that with the data? Is it already baked into the data\n",
    "itself or is there a specific procedure that needs to be run that demonstrates there is no spurious occurence? Is there a confidence level for avoding\n",
    "spuriousness?"
   ]
  },
  {
   "cell_type": "code",
   "execution_count": 26,
   "metadata": {
    "tags": []
   },
   "outputs": [
    {
     "name": "stdout",
     "output_type": "stream",
     "text": [
      "\n",
      "-------------------------------------------------------------------------------\n",
      "hgroup                                          Level of Research at University\n",
      "-------------------------------------------------------------------------------\n",
      "\n",
      "                  Type: Numeric (long)\n",
      "                 Label: hgroup\n",
      "\n",
      "                 Range: [1,4]                         Units: 1\n",
      "         Unique values: 4                         Missing .: 0/581\n",
      "\n",
      "            Tabulation: Freq.   Numeric  Label\n",
      "                           34         1  Highest\n",
      "                           37         2  Very high\n",
      "                           72         3  High\n",
      "                          438         4  Some/None\n"
     ]
    }
   ],
   "source": [
    "label variable hgroup \"Level of Research at University\"\n",
    "codebook hgroup"
   ]
  },
  {
   "cell_type": "code",
   "execution_count": 27,
   "metadata": {
    "tags": []
   },
   "outputs": [
    {
     "name": "stdout",
     "output_type": "stream",
     "text": [
      "\n",
      "-------------------------------------------------------------------------------\n",
      "igrnt_low_inc                                                  % Loan Repayment\n",
      "-------------------------------------------------------------------------------\n",
      "\n",
      "                  Type: Numeric (float)\n",
      "\n",
      "                 Range: [0,60578.5]                   Units: 1.000e-06\n",
      "         Unique values: 579                       Missing .: 0/581\n",
      "\n",
      "                  Mean: 6965.15\n",
      "             Std. dev.: 8034.53\n",
      "\n",
      "           Percentiles:     10%       25%       50%       75%       90%\n",
      "                        765.767   2079.92   4656.91   8337.64   15516.2\n"
     ]
    }
   ],
   "source": [
    "label variable igrnt_low_~c \"% Loan Repayment\"\n",
    "codebook igrnt_low_~c"
   ]
  },
  {
   "cell_type": "code",
   "execution_count": 28,
   "metadata": {
    "tags": []
   },
   "outputs": [
    {
     "name": "stdout",
     "output_type": "stream",
     "text": [
      "\n",
      "-------------------------------------------------------------------------------\n",
      "sgrnt_low_inc                            State Grant Aid Per Low Income Student\n",
      "-------------------------------------------------------------------------------\n",
      "\n",
      "                  Type: Numeric (float)\n",
      "\n",
      "                 Range: [0,40112.09]                  Units: 1.000e-06\n",
      "         Unique values: 578                       Missing .: 0/581\n",
      "\n",
      "                  Mean: 3590.03\n",
      "             Std. dev.: 3788.36\n",
      "\n",
      "           Percentiles:     10%       25%       50%       75%       90%\n",
      "                        374.798   1255.38   2955.35   4690.81   6946.94\n"
     ]
    }
   ],
   "source": [
    "label variable sgrnt_low_~c \"State Grant Aid Per Low Income Student\"\n",
    "codebook sgrnt_low_~c"
   ]
  },
  {
   "cell_type": "code",
   "execution_count": 29,
   "metadata": {
    "tags": []
   },
   "outputs": [
    {
     "name": "stdout",
     "output_type": "stream",
     "text": [
      "\n",
      "-------------------------------------------------------------------------------\n",
      "hgroup                                          Level of Research at University\n",
      "-------------------------------------------------------------------------------\n",
      "\n",
      "                  Type: Numeric (long)\n",
      "                 Label: hgroup\n",
      "\n",
      "                 Range: [1,4]                         Units: 1\n",
      "         Unique values: 4                         Missing .: 0/581\n",
      "\n",
      "            Tabulation: Freq.   Numeric  Label\n",
      "                           34         1  Highest\n",
      "                           37         2  Very high\n",
      "                           72         3  High\n",
      "                          438         4  Some/None\n"
     ]
    }
   ],
   "source": [
    "codebook hgroup"
   ]
  },
  {
   "cell_type": "code",
   "execution_count": 30,
   "metadata": {
    "tags": []
   },
   "outputs": [
    {
     "name": "stdout",
     "output_type": "stream",
     "text": [
      "\n",
      "   Level of |\n",
      "Research at |\n",
      " University |      Freq.     Percent        Cum.\n",
      "------------+-----------------------------------\n",
      "    Highest |         34        5.85        5.85\n",
      "  Very high |         37        6.37       12.22\n",
      "       High |         72       12.39       24.61\n",
      "  Some/None |        438       75.39      100.00\n",
      "------------+-----------------------------------\n",
      "      Total |        581      100.00\n"
     ]
    }
   ],
   "source": [
    "tab hgroup"
   ]
  },
  {
   "cell_type": "code",
   "execution_count": 31,
   "metadata": {
    "tags": []
   },
   "outputs": [
    {
     "data": {
      "text/html": [
       "<div>\n",
       "<style scoped>\n",
       "    .dataframe tbody tr th:only-of-type {\n",
       "        vertical-align: middle;\n",
       "    }\n",
       "\n",
       "    .dataframe tbody tr th {\n",
       "        vertical-align: top;\n",
       "    }\n",
       "\n",
       "    .dataframe thead th {\n",
       "        text-align: right;\n",
       "    }\n",
       "</style>\n",
       "<table border=\"1\" class=\"dataframe\">\n",
       "  <thead>\n",
       "    <tr style=\"text-align: right;\">\n",
       "      <th></th>\n",
       "      <th>hgroup</th>\n",
       "    </tr>\n",
       "  </thead>\n",
       "  <tbody>\n",
       "    <tr>\n",
       "      <th>1</th>\n",
       "      <td>Some/None</td>\n",
       "    </tr>\n",
       "    <tr>\n",
       "      <th>2</th>\n",
       "      <td>Some/None</td>\n",
       "    </tr>\n",
       "    <tr>\n",
       "      <th>3</th>\n",
       "      <td>High</td>\n",
       "    </tr>\n",
       "    <tr>\n",
       "      <th>4</th>\n",
       "      <td>High</td>\n",
       "    </tr>\n",
       "    <tr>\n",
       "      <th>5</th>\n",
       "      <td>Some/None</td>\n",
       "    </tr>\n",
       "  </tbody>\n",
       "</table>\n",
       "</div>"
      ]
     },
     "metadata": {},
     "output_type": "display_data"
    }
   ],
   "source": [
    "%head hgroup"
   ]
  },
  {
   "cell_type": "code",
   "execution_count": 32,
   "metadata": {
    "tags": []
   },
   "outputs": [
    {
     "name": "stdout",
     "output_type": "stream",
     "text": [
      "\n",
      "    Variable |        Obs        Mean    Std. dev.       Min        Max\n",
      "-------------+---------------------------------------------------------\n",
      "      hgroup |        581     3.57315    .8511059          1          4\n"
     ]
    }
   ],
   "source": [
    "sum hgroup"
   ]
  },
  {
   "cell_type": "code",
   "execution_count": 33,
   "metadata": {
    "tags": []
   },
   "outputs": [
    {
     "name": "stdout",
     "output_type": "stream",
     "text": [
      "\n",
      "Variable      Storage   Display    Value\n",
      "    name         type    format    label      Variable label\n",
      "-------------------------------------------------------------------------------\n",
      "hgroup          long    %9.0g      hgroup     Level of Research at University\n"
     ]
    }
   ],
   "source": [
    "describe hgroup"
   ]
  },
  {
   "cell_type": "markdown",
   "metadata": {},
   "source": [
    "### 3. Create a bar graph with confidence interval whiskers\n",
    "\n",
    "Create a bar graph that compares interval ratio data for a dependent variable across different nominal categories from an independent variable. If you are using Charlie's data, do this for the state grant aid per low income student variable name **sgrnt_low**"
   ]
  },
  {
   "cell_type": "markdown",
   "metadata": {
    "tags": []
   },
   "source": [
    "QUESTION: It is unclear why I am unable to use the variable \"sgrnt_low_inc\" in some places but it works in others.\n",
    "E.g. I can run \"sgrnt_low_inc in places such as [bysort hgroup] but I am not able to run [gen sd_sgrnt_low]\n",
    "as sgrnt_low_inc as it will inform me that that variable is not recognized."
   ]
  },
  {
   "cell_type": "markdown",
   "metadata": {},
   "source": [
    "QUESTION: The variable [sgrnt_low_inc] is being completely inconsistent when I use it. I have managed to get everything to work exactly once\n",
    "[see obsidian screen capture] but after making a change it appears that the system is unable to duplicate the result."
   ]
  },
  {
   "cell_type": "code",
   "execution_count": 34,
   "metadata": {
    "tags": []
   },
   "outputs": [],
   "source": [
    "label variable sgrnt_low \"State Aid Per Low Income Student\""
   ]
  },
  {
   "cell_type": "code",
   "execution_count": 35,
   "metadata": {
    "tags": []
   },
   "outputs": [
    {
     "name": "stdout",
     "output_type": "stream",
     "text": [
      "\n",
      "-------------------------------------------------------------------------------\n",
      "sgrnt_low_inc                                  State Aid Per Low Income Student\n",
      "-------------------------------------------------------------------------------\n",
      "\n",
      "                  Type: Numeric (float)\n",
      "\n",
      "                 Range: [0,40112.09]                  Units: 1.000e-06\n",
      "         Unique values: 578                       Missing .: 0/581\n",
      "\n",
      "                  Mean: 3590.03\n",
      "             Std. dev.: 3788.36\n",
      "\n",
      "           Percentiles:     10%       25%       50%       75%       90%\n",
      "                        374.798   1255.38   2955.35   4690.81   6946.94\n"
     ]
    }
   ],
   "source": [
    "codebook sgrnt_low_inc"
   ]
  },
  {
   "cell_type": "code",
   "execution_count": 36,
   "metadata": {
    "tags": []
   },
   "outputs": [],
   "source": [
    "collapse (mean) mn_sgrnt_low=sgrnt_low ///\n",
    "(semean) se_sgrnt_low=sgrnt_low ///\n",
    ", by(hgroup)"
   ]
  },
  {
   "cell_type": "code",
   "execution_count": 37,
   "metadata": {
    "tags": []
   },
   "outputs": [],
   "source": [
    "generate hisgrnt_low = mn_sgrnt_low + 1.96*se_sgrnt_low\n",
    "generate losgrnt_low = mn_sgrnt_low - 1.96*se_sgrnt_low"
   ]
  },
  {
   "cell_type": "code",
   "execution_count": 38,
   "metadata": {
    "tags": []
   },
   "outputs": [
    {
     "data": {
      "text/html": [
       "<div>\n",
       "<style scoped>\n",
       "    .dataframe tbody tr th:only-of-type {\n",
       "        vertical-align: middle;\n",
       "    }\n",
       "\n",
       "    .dataframe tbody tr th {\n",
       "        vertical-align: top;\n",
       "    }\n",
       "\n",
       "    .dataframe thead th {\n",
       "        text-align: right;\n",
       "    }\n",
       "</style>\n",
       "<table border=\"1\" class=\"dataframe\">\n",
       "  <thead>\n",
       "    <tr style=\"text-align: right;\">\n",
       "      <th></th>\n",
       "      <th>hgroup</th>\n",
       "      <th>mn_sgrnt_low</th>\n",
       "      <th>se_sgrnt_low</th>\n",
       "      <th>hisgrnt_low</th>\n",
       "      <th>losgrnt_low</th>\n",
       "    </tr>\n",
       "  </thead>\n",
       "  <tbody>\n",
       "    <tr>\n",
       "      <th>1</th>\n",
       "      <td>Highest</td>\n",
       "      <td>6340.64</td>\n",
       "      <td>1267.124</td>\n",
       "      <td>8824.202</td>\n",
       "      <td>3857.078</td>\n",
       "    </tr>\n",
       "    <tr>\n",
       "      <th>2</th>\n",
       "      <td>Very high</td>\n",
       "      <td>6196.042</td>\n",
       "      <td>1087.801</td>\n",
       "      <td>8328.132</td>\n",
       "      <td>4063.952</td>\n",
       "    </tr>\n",
       "    <tr>\n",
       "      <th>3</th>\n",
       "      <td>High</td>\n",
       "      <td>3874.735</td>\n",
       "      <td>484.8352</td>\n",
       "      <td>4825.012</td>\n",
       "      <td>2924.458</td>\n",
       "    </tr>\n",
       "    <tr>\n",
       "      <th>4</th>\n",
       "      <td>Some/None</td>\n",
       "      <td>3109.573</td>\n",
       "      <td>127.8609</td>\n",
       "      <td>3360.181</td>\n",
       "      <td>2858.966</td>\n",
       "    </tr>\n",
       "  </tbody>\n",
       "</table>\n",
       "</div>"
      ]
     },
     "metadata": {},
     "output_type": "display_data"
    }
   ],
   "source": [
    "%head"
   ]
  },
  {
   "cell_type": "code",
   "execution_count": 41,
   "metadata": {},
   "outputs": [
    {
     "data": {
      "image/png": "[encoded data removed]",
      "text/plain": [
       "<IPython.core.display.Image object>"
      ]
     },
     "metadata": {},
     "output_type": "display_data"
    }
   ],
   "source": [
    "graph twoway (bar mn_sgrnt_low hgroup, barw(.5)) ///\n",
    "(rcap hisgrnt_low losgrnt_low hgroup) , ///\n",
    "xlabel( 1 \"Highest\" 2 \"High\" 3 \"Very High\" 4 \"Some/None\", noticks) ///\n",
    "ytitle(\"State grant aid per low income student ($)\") ///\n",
    "ylabel(0(2500)10000, format(%10.0fc)) ///\n",
    "xtitle(\"Research Intensiveness\") legend(off) name(igrntbar, replace) ///\n",
    "title(\"State Grant Aid per Low-Income Student by Type of Research University\")  ///\n",
    "yline(1936.825, lp(_) lcolor(red) lstyle(foreground)) scheme(plotplainblind)"
   ]
  },
  {
   "cell_type": "markdown",
   "metadata": {},
   "source": [
    "### 4. Summarize what you learned from the bar graph\n",
    "\n",
    "Do the confidence intervals overlap across categories or not? What does this mean?"
   ]
  },
  {
   "cell_type": "markdown",
   "metadata": {},
   "source": [
    "The universities with highest and very high amounts of research have confidence intervals that overlap. Additionally, universities with some/none research do not have overlapping confidence intervals with universities that have a highest, higher, and very high research intensiveness. This suggests that universities receive little in the way of state grant aid per low income student. This also suggests that low income students are unlikely to receive state grant if attending universities that particpate in some/none research."
   ]
  },
  {
   "cell_type": "markdown",
   "metadata": {},
   "source": [
    "### 4. Estimate OLS regression statistics for the relationship between two interval ratio variables and ouput the table below\n",
    "\n",
    "If you use Charlie's data, use the loan repayment variable and the **netprice4lowincome** variable."
   ]
  },
  {
   "cell_type": "code",
   "execution_count": 43,
   "metadata": {},
   "outputs": [
    {
     "name": "stdout",
     "output_type": "stream",
     "text": [
      "(19 vars, 33 obs)\n",
      "opeid               stabbr              spend_ugd_4yr_low   instatetuition\n",
      "acceptrate          hgroup              x_aid_bysticker     xstring\n",
      "y_lo_inc_rpy        upgrntn             sgrnt_low_inc       ystring\n",
      "lo_inc_debt_mdn     all_under           igrnt_low_inc       markerlabel\n",
      "instnm              netprice4lowincome  sandigrnt_low_inc\n",
      "\n",
      "      Source |       SS           df       MS      Number of obs   =        33\n",
      "-------------+----------------------------------   F(1, 31)        =      8.48\n",
      "       Model |  473.546336         1  473.546336   Prob > F        =    0.0066\n",
      "    Residual |  1730.93895        31  55.8367402   R-squared       =    0.2148\n",
      "-------------+----------------------------------   Adj R-squared   =    0.1895\n",
      "       Total |  2204.48528        32  68.8901651   Root MSE        =    7.4724\n",
      "\n",
      "------------------------------------------------------------------------------\n",
      "y_lo_inc_rpy | Coefficient  Std. err.      t    P>|t|     [95% conf. interval]\n",
      "-------------+----------------------------------------------------------------\n",
      "netprice4l~e |  -.0011662   .0004005    -2.91   0.007    -.0019829   -.0003495\n",
      "       _cons |   76.56364   3.782187    20.24   0.000     68.84982    84.27746\n",
      "------------------------------------------------------------------------------\n"
     ]
    }
   ],
   "source": [
    "insheet using loanrepay2013_highestresearch.csv, clear\n",
    "ds, varwidth(25)\n",
    "reg y_lo_inc_rpy netprice4lowincome"
   ]
  },
  {
   "cell_type": "markdown",
   "metadata": {},
   "source": [
    "### 5. Interpret the output\n",
    "\n",
    "1. What is the coefficient for your independent variable? What does it say about the size and direction of the relationship you estimated?\n",
    "\n",
    "2. What is the p-value for the coefficient for your independent variable? What does it indicate about how much confidence we can have in the estimated relationship?\n",
    "\n",
    "3. What is the $r^2$ coefficient of determination? What does it say about how much variation in your dependent variable is explained by the independent variable?\n",
    "\n",
    "4. What is the F-ratio for your $r^2$. What does it indicate about how much confidence we can have in the $r^2$ estimate?\n",
    "\n"
   ]
  },
  {
   "cell_type": "markdown",
   "metadata": {},
   "source": [
    "1. The co-efficient for the independent variable is -.00117.\n",
    "There is a negative relationship between low income loan repayment and net price.\n",
    "\n",
    "2. The p-value for the independent variable is 0.007.\n",
    "There is a high level of confidence in the estimated relationship.\n",
    "\n",
    "3. The R-squared coefficient of determination is 0.215.\n",
    "Only around 20% of variation in the dependent variable is caused by the independent variable.\n",
    "\n",
    "4. The F ratio is 8.48.\n",
    "Due to the F ratio being 8.48, and there being the probability value associated being 0.007, we can be confident about the R-squared estimate of 0.2148."
   ]
  },
  {
   "cell_type": "markdown",
   "metadata": {},
   "source": [
    "### 6. Illustrate the OLS relationship with a scatter plot that includes a fitted line"
   ]
  },
  {
   "cell_type": "code",
   "execution_count": 45,
   "metadata": {},
   "outputs": [
    {
     "data": {
      "image/png": "[encoded data removed]",
      "text/plain": [
       "<IPython.core.display.Image object>"
      ]
     },
     "metadata": {},
     "output_type": "display_data"
    }
   ],
   "source": [
    "tw (scatter y_lo_inc_rpy netprice4lowincome) ///\n",
    "(lfit y_lo_inc_rpy netprice4lowincome, color(red)), ///\n",
    "ytitle(\"% Loan repayment\") ///\n",
    "xtitle(\"Need-based state aid per Pell recipient as % of sticker\") legend(off) scheme(plotplainblind)"
   ]
  }
 ],
 "metadata": {
  "kernelspec": {
   "display_name": "Stata (nbstata)",
   "language": "stata",
   "name": "nbstata"
  },
  "language_info": {
   "file_extension": ".do",
   "mimetype": "text/x-stata",
   "name": "stata",
   "version": "17"
  }
 },
 "nbformat": 4,
 "nbformat_minor": 4
}
