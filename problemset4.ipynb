{
 "cells": [
  {
   "cell_type": "markdown",
   "metadata": {},
   "source": [
    "# Problem set 4\n",
    "\n",
    "\n",
    "Andrew Martin\n",
    "\n",
    "Examining heteroscedascity of university research levels and state grants\n",
    "\n",
    "03/12/24"
   ]
  },
  {
   "cell_type": "markdown",
   "metadata": {},
   "source": [
    "## 1. Visually assess heteroscedasticity [1 pt]\n",
    "\n",
    "    A. Create a scatterplot of a dependent variable and independent variable of interest from a dataset of your choice.\n",
    "    \n",
    "    B. Include a fitted line with an area graph of the confidence interval for the prediction. [IE a regression line + shadow standard error line]\n",
    "    \n",
    "    C. Write a couple sentences describing how the distribution of the data in the graph does or does not appear to be heteroscedastic.\n",
    "    - [MY ANSWER] Based on the verticle spread of points on the graph below, there appears to be some degree of heteroscedascity across the research levels at universities. While there is similar spacing or clustering that appears to happen at first, heteroscedasticy appearts to be increasing within each subsequent research level (ie the heteroscedascity for universities that are at research level 2 is great than the heteroscedascity for research level 2 universities while research level 3 universities have a great heteroscedascity than research level 2 universities and so on."
   ]
  },
  {
   "cell_type": "markdown",
   "metadata": {},
   "source": [
    "#### Load Data"
   ]
  },
  {
   "cell_type": "code",
   "execution_count": 1,
   "metadata": {
    "tags": []
   },
   "outputs": [
    {
     "data": {
      "text/html": [
       "<style>div.jp-Notebook .datagrid-container {min-height: 448px; }</style>"
      ],
      "text/plain": [
       "<IPython.core.display.HTML object>"
      ]
     },
     "metadata": {},
     "output_type": "display_data"
    },
    {
     "name": "stdout",
     "output_type": "stream",
     "text": [
      "\u001b[31mset error:\n",
      "    parsing errors:\n",
      "\t[line  2]: 'graph_format svg'\u001b[0m\n"
     ]
    }
   ],
   "source": [
    "%set graph_format svg"
   ]
  },
  {
   "cell_type": "code",
   "execution_count": 2,
   "metadata": {
    "tags": []
   },
   "outputs": [],
   "source": [
    "qui log using ProblemSet4.log, replace\n",
    "set more off"
   ]
  },
  {
   "cell_type": "code",
   "execution_count": 6,
   "metadata": {
    "tags": []
   },
   "outputs": [
    {
     "name": "stdout",
     "output_type": "stream",
     "text": [
      "(8 vars, 581 obs)\n"
     ]
    }
   ],
   "source": [
    "insheet using grants2015_college_affordability20200218.csv, clear\n",
    "eststo clear"
   ]
  },
  {
   "cell_type": "code",
   "execution_count": 7,
   "metadata": {
    "tags": []
   },
   "outputs": [
    {
     "name": "stdout",
     "output_type": "stream",
     "text": [
      "control        highdeg        instnm         stabbr\n",
      "hgroup         igrnt_low_inc  sgrnt_low_inc  year\n"
     ]
    }
   ],
   "source": [
    "ds, varwidth(29) alpha"
   ]
  },
  {
   "cell_type": "markdown",
   "metadata": {},
   "source": [
    "#### Set Graph"
   ]
  },
  {
   "cell_type": "code",
   "execution_count": 8,
   "metadata": {
    "tags": []
   },
   "outputs": [
    {
     "name": "stdout",
     "output_type": "stream",
     "text": [
      "graph size was (5.5in, 4in), is now (5.5in, 8).\n"
     ]
    }
   ],
   "source": [
    "%set graph_height = 8"
   ]
  },
  {
   "cell_type": "code",
   "execution_count": 9,
   "metadata": {
    "tags": []
   },
   "outputs": [
    {
     "name": "stdout",
     "output_type": "stream",
     "text": [
      "graph size was (5.5in, 8), is now (11, 8).\n"
     ]
    }
   ],
   "source": [
    "%set graph_width = 11"
   ]
  },
  {
   "cell_type": "markdown",
   "metadata": {},
   "source": [
    "#### Organize/Clean Data"
   ]
  },
  {
   "cell_type": "markdown",
   "metadata": {},
   "source": [
    "NOTE: In this case I need to (1) relabel variables I will be using, (2) log financial variables, (3) transform [hgroup] from an interval variable into a nominal variable\n",
    "- Remember: Hgroup can only be transformed into a nominal variable currently using this particular dataset, need to resolve issue of larger data set not permitting this transformation"
   ]
  },
  {
   "cell_type": "code",
   "execution_count": 11,
   "metadata": {
    "tags": []
   },
   "outputs": [],
   "source": [
    "label variable hgroup \"Research Level\"\n",
    "label variable highdeg \"Highest Degree Offered\""
   ]
  },
  {
   "cell_type": "code",
   "execution_count": 12,
   "metadata": {
    "tags": []
   },
   "outputs": [
    {
     "name": "stdout",
     "output_type": "stream",
     "text": [
      "(3 missing values generated)\n"
     ]
    }
   ],
   "source": [
    "gen lgrntlow = log(igrnt_low_inc)"
   ]
  },
  {
   "cell_type": "code",
   "execution_count": 13,
   "metadata": {
    "tags": []
   },
   "outputs": [
    {
     "name": "stdout",
     "output_type": "stream",
     "text": [
      "(4 missing values generated)\n"
     ]
    }
   ],
   "source": [
    "gen lsgrntlow = log(sgrnt_low_inc)"
   ]
  },
  {
   "cell_type": "code",
   "execution_count": 14,
   "metadata": {
    "collapsed": true,
    "jupyter": {
     "outputs_hidden": true
    },
    "tags": []
   },
   "outputs": [
    {
     "name": "stdout",
     "output_type": "stream",
     "text": [
      "\n",
      "-------------------------------------------------------------------------------\n",
      "lgrntlow                   Institutional Grants Provided to Low Income Students\n",
      "-------------------------------------------------------------------------------\n",
      "\n",
      "                  Type: Numeric (float)\n",
      "\n",
      "                 Range: [.31608146,11.011695]         Units: 1.000e-08\n",
      "         Unique values: 578                       Missing .: 3/581\n",
      "\n",
      "                  Mean: 8.27232\n",
      "             Std. dev.: 1.24853\n",
      "\n",
      "           Percentiles:     10%       25%       50%       75%       90%\n",
      "                        6.68727    7.6421   8.44941   9.03796   9.65005\n",
      "\n",
      "-------------------------------------------------------------------------------\n",
      "lsgrntlow                                   State Grants to Low Income Students\n",
      "-------------------------------------------------------------------------------\n",
      "\n",
      "                  Type: Numeric (float)\n",
      "\n",
      "                 Range: [1.08846,10.599433]           Units: 1.000e-07\n",
      "         Unique values: 577                       Missing .: 4/581\n",
      "\n",
      "                  Mean: 7.63782\n",
      "             Std. dev.: 1.35871\n",
      "\n",
      "           Percentiles:     10%       25%       50%       75%       90%\n",
      "                        6.01918   7.14757   7.99861   8.45849   8.85219\n"
     ]
    }
   ],
   "source": [
    "label variable lgrntlow \"Institutional Grants Provided to Low Income Students\"\n",
    "label variable lsgrntlow \"State Grants to Low Income Students\"\n",
    "codebook lgrntlow lsgrntlow"
   ]
  },
  {
   "cell_type": "code",
   "execution_count": 15,
   "metadata": {
    "tags": []
   },
   "outputs": [],
   "source": [
    "quietly {\n",
    "rename hgroup hgroupstring\n",
    "encode hgroupstring, gen(hgrouptemp)\n",
    "recode hgrouptemp (1=1 \"Highest\") (2=3 \"High\") (3=2 \"Very high\") (4=4 \"Some/None\"), gen(hgroup)\n",
    "qui label var igrnt_low \"institutional grant $ per fte\"\n",
    "qui label var sgrnt_low \"state grant $ per fte\"\n",
    "qui label var hgroup \"research level\"\n",
    "}"
   ]
  },
  {
   "cell_type": "markdown",
   "metadata": {
    "tags": []
   },
   "source": [
    "#### Create Scatterplot"
   ]
  },
  {
   "cell_type": "markdown",
   "metadata": {},
   "source": [
    "NOTE: Anh's example"
   ]
  },
  {
   "cell_type": "code",
   "execution_count": null,
   "metadata": {},
   "outputs": [],
   "source": [
    "tw (scatter rincome partyid) ///\n",
    "(lfitci rincome partyid), ///\n",
    "ytitle(log income, size(large)) ///\n",
    "xtitle(,size(large)) legend(off) scheme(538w) ///\n",
    "title(\"Income and Party Identification\" \" \", span size(large)) ///\n",
    "aspect(1, place(west))"
   ]
  },
  {
   "cell_type": "markdown",
   "metadata": {},
   "source": [
    "NOTE: My attempt with logged state grants (lsgrntlow) and universities research level (hgroup)"
   ]
  },
  {
   "cell_type": "code",
   "execution_count": 17,
   "metadata": {
    "tags": []
   },
   "outputs": [
    {
     "data": {
      "image/png": "[encoded data removed]",
      "text/plain": [
       "<IPython.core.display.Image object>"
      ]
     },
     "metadata": {},
     "output_type": "display_data"
    }
   ],
   "source": [
    "tw (scatter lsgrntlow hgroup) ///\n",
    "(lfitci lsgrntlow hgroup), ///\n",
    "ytitle(log State Grants, size(large)) ///\n",
    "xtitle(,size(large)) legend(off) scheme(538w) ///\n",
    "title(\"State Grants and Research Levels\" \" \", span size(large)) ///\n",
    "aspect(1, place(west))"
   ]
  },
  {
   "cell_type": "markdown",
   "metadata": {},
   "source": [
    "## 2. Test for heteroscedasticity [1 pt]\n",
    "\n",
    "    A. Do a Breusch-Pagan postestimation test for heteroscedasticity in your dependent variable and independent variable relationship.\n",
    "\n",
    "    B. Reestimate the regression after logging the DV or IV if appropriate and do another Breusch-Pagan test. Does logging reduce heteroscedasticity?\n",
    "    - Consider logging varaibles that are things such as the total count of students at schools, or the total number of a kind of student at a school\n",
    "    - [My Answer] Logging the variables drastically changes the chi2 level which suggests that there is significant heteroscedascity in my model."
   ]
  },
  {
   "cell_type": "markdown",
   "metadata": {},
   "source": [
    "#### Testing for Heteroscedascity Via Breusch-Pagan Test"
   ]
  },
  {
   "cell_type": "markdown",
   "metadata": {},
   "source": [
    "NOTE: Anh's Example"
   ]
  },
  {
   "cell_type": "code",
   "execution_count": null,
   "metadata": {},
   "outputs": [],
   "source": [
    "quietly reg rincome partyid\n",
    "estat hettest"
   ]
  },
  {
   "cell_type": "markdown",
   "metadata": {},
   "source": [
    "NOTE: My attempt with state grants note logged"
   ]
  },
  {
   "cell_type": "code",
   "execution_count": 19,
   "metadata": {
    "tags": []
   },
   "outputs": [
    {
     "name": "stdout",
     "output_type": "stream",
     "text": [
      "\n",
      "Breusch–Pagan/Cook–Weisberg test for heteroskedasticity \n",
      "Assumption: Normal error terms\n",
      "Variable: Fitted values of sgrnt_low_inc\n",
      "\n",
      "H0: Constant variance\n",
      "\n",
      "    chi2(1) = 284.31\n",
      "Prob > chi2 = 0.0000\n"
     ]
    }
   ],
   "source": [
    "quietly reg sgrnt_low_inc hgroup\n",
    "estat hettest"
   ]
  },
  {
   "cell_type": "markdown",
   "metadata": {},
   "source": [
    "NOTE: My attempt with state grants logged"
   ]
  },
  {
   "cell_type": "code",
   "execution_count": 18,
   "metadata": {
    "tags": []
   },
   "outputs": [
    {
     "name": "stdout",
     "output_type": "stream",
     "text": [
      "\n",
      "Breusch–Pagan/Cook–Weisberg test for heteroskedasticity \n",
      "Assumption: Normal error terms\n",
      "Variable: Fitted values of lsgrntlow\n",
      "\n",
      "H0: Constant variance\n",
      "\n",
      "    chi2(1) =   0.90\n",
      "Prob > chi2 = 0.3432\n"
     ]
    }
   ],
   "source": [
    "quietly reg lsgrntlow hgroup\n",
    "estat hettest"
   ]
  },
  {
   "cell_type": "markdown",
   "metadata": {},
   "source": [
    "## 3. Boot strap your standard errors [1 pt.]\n",
    "\n",
    "    A. Quietly reestimate your regression coefficient with convential OLS and store the results.\n",
    "    \n",
    "    B. Quietly reestimate your regression with bootstrapped standard errors and store the results.\n",
    "    \n",
    "    C. Use esttab to output the results of the two models and tell us how the bootstrap standard erros differ from the conventional results.\n",
    "    \n",
    "    D. Explain in your own words what the bootstrap procedure is doing and why it yields similar or different standard errors to the convential model.\n",
    "    - Bootstrapping is taking random samples from the data sets among the hgroup variable (research level) and lsgrntlow (state grants for low income students). This allows for a secondary assessment of standard error seperate from the Breusch-Pagan test. In this case the chi2 was .90 but the presented standard error below is .07 and .24, which are significantly different from the standard error presented by the Breusch-Pagan test."
   ]
  },
  {
   "cell_type": "code",
   "execution_count": 20,
   "metadata": {},
   "outputs": [
    {
     "name": "stdout",
     "output_type": "stream",
     "text": [
      "(est1 stored)\n"
     ]
    }
   ],
   "source": [
    "eststo: quietly reg lsgrntlow hgroup"
   ]
  },
  {
   "cell_type": "code",
   "execution_count": 21,
   "metadata": {
    "tags": []
   },
   "outputs": [
    {
     "name": "stdout",
     "output_type": "stream",
     "text": [
      "(est2 stored)\n"
     ]
    }
   ],
   "source": [
    "eststo: quietly bootstrap _b[hgroup], rep(1000) nodots : ///\n",
    "    reg lsgrntlow hgroup"
   ]
  },
  {
   "cell_type": "markdown",
   "metadata": {},
   "source": [
    "NOTE: Create a Table"
   ]
  },
  {
   "cell_type": "code",
   "execution_count": 22,
   "metadata": {
    "tags": []
   },
   "outputs": [
    {
     "name": "stdout",
     "output_type": "stream",
     "text": [
      "\n",
      "--------------------------------------------\n",
      "                      (1)             (2)   \n",
      "                      OLS       Bootstrap   \n",
      "--------------------------------------------\n",
      "hgroup              -0.18**                 \n",
      "                   (0.07)                   \n",
      "_bs_1                               -0.18** \n",
      "                                   (0.07)   \n",
      "_cons                8.29***                \n",
      "                   (0.24)                   \n",
      "--------------------------------------------\n",
      "N                     577             577   \n",
      "--------------------------------------------\n"
     ]
    }
   ],
   "source": [
    "esttab, ///\n",
    "mlabels(\"OLS\" \"Bootstrap\") ///\n",
    "collabels(none)  ///\n",
    "cells(b(star fmt(2)) se(fmt(2) par)) ///\n",
    "starlevels(^ .1 * .05 ** .01 *** .001)"
   ]
  },
  {
   "cell_type": "markdown",
   "metadata": {},
   "source": [
    "## 4. Estimate robust standard errors [1 pt]\n",
    "\n",
    "    A. Reestimate your model with robust standard errors and store the results.\n",
    "    \n",
    "    B. Use esttab to output the results of the robust model alongside the conventional and bootstrap models and explain how the the results compare in 1 or 2 sentences.\n",
    "    \n",
    "    C. In your own words, explain how the robust standard errors procedure differs from conventional procedures.\n",
    "    - [My Answer] While the initial scatterplot led me to believe there might be a high degree of heteroscedascity (based on how I understand how to read that particular graph) the three models I ran examining heteroscedascity actually suggest they are all revealling the same levels. While this would suggest that the OLS model may be an appropriate fit for the data, due to the graphical representation, and my reading/understanding of it, I think that running the additional models was neccesarry."
   ]
  },
  {
   "cell_type": "markdown",
   "metadata": {},
   "source": [
    "#### OLS with Robust Standard Errors"
   ]
  },
  {
   "cell_type": "code",
   "execution_count": 23,
   "metadata": {
    "tags": []
   },
   "outputs": [
    {
     "name": "stdout",
     "output_type": "stream",
     "text": [
      "(est3 stored)\n"
     ]
    }
   ],
   "source": [
    "eststo: quietly reg lsgrntlow hgroup, robust"
   ]
  },
  {
   "cell_type": "markdown",
   "metadata": {},
   "source": [
    "#### Creating the table with the new model"
   ]
  },
  {
   "cell_type": "code",
   "execution_count": 24,
   "metadata": {
    "tags": []
   },
   "outputs": [
    {
     "name": "stdout",
     "output_type": "stream",
     "text": [
      "\n",
      "------------------------------------------------------------\n",
      "                      (1)             (2)             (3)   \n",
      "                      OLS       Bootstrap          Robust   \n",
      "------------------------------------------------------------\n",
      "hgroup              -0.18**                         -0.18** \n",
      "                   (0.07)                          (0.07)   \n",
      "_bs_1                               -0.18**                 \n",
      "                                   (0.07)                   \n",
      "_cons                8.29***                         8.29***\n",
      "                   (0.24)                          (0.25)   \n",
      "------------------------------------------------------------\n",
      "N                     577             577             577   \n",
      "------------------------------------------------------------\n"
     ]
    }
   ],
   "source": [
    "esttab, ///\n",
    "mlabels(\"OLS\" \"Bootstrap\" \"Robust\") ///\n",
    "collabels(none)  ///\n",
    "cells(b(star fmt(2)) se(fmt(2) par)) ///\n",
    "starlevels(^ .1 * .05 ** .01 *** .001)"
   ]
  },
  {
   "cell_type": "markdown",
   "metadata": {},
   "source": [
    "## 5. Cluster robust standard errors [1 pt]\n",
    "\n",
    "    A. Explain why or why not your model should be estimated with cluster robust standard errors. If yes, what is the clustering unit and why?\n",
    "    \n",
    "    B. If yes, reestimate your model with cluster robust standard errors and use esttab to output the results of the robust model alongside your other models and explain how the the results compare in 1 or 2 sentences.\n",
    "    \n",
    "    C. Write a couple sentences explaining what is the best method of standard error estimation for your models and why."
   ]
  },
  {
   "cell_type": "markdown",
   "metadata": {},
   "source": [
    "NOTE: I believe we are able to skip five due to issues people are having with different data sets."
   ]
  },
  {
   "cell_type": "code",
   "execution_count": null,
   "metadata": {},
   "outputs": [],
   "source": []
  }
 ],
 "metadata": {
  "kernelspec": {
   "display_name": "Stata (nbstata)",
   "language": "stata",
   "name": "nbstata"
  },
  "language_info": {
   "file_extension": ".do",
   "mimetype": "text/x-stata",
   "name": "stata",
   "version": "17"
  }
 },
 "nbformat": 4,
 "nbformat_minor": 4
}
