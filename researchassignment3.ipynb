{
 "cells": [
  {
   "cell_type": "markdown",
   "metadata": {},
   "source": [
    "# Research assignment 3\n",
    "\n",
    "Andrew Martin\n",
    "\n",
    "Enrollment Status and Race\n",
    "\n",
    "02-27-24"
   ]
  },
  {
   "cell_type": "markdown",
   "metadata": {},
   "source": [
    "NOTE: This assignment will create an RTF file within the folder. This file needs to be opened with microsoft word file\n",
    "and this will allow the table to be opened up. This is how you export the table for when writing a thesis."
   ]
  },
  {
   "cell_type": "markdown",
   "metadata": {
    "tags": []
   },
   "source": [
    "## 1. Build your hypothesis\n",
    "\n",
    "Write bullet points that answer the following questions:\n",
    "\n",
    "    A. What is your depedent variable? For this assignment, your depedent should be a continuous variable. Describe how your depedent variable is measured. If your data doesn't allow this, you can use either the General Social Survey 2018 or the Grant and Loan Repayment data. \n",
    "    \n",
    "    B. What are the indepedent variables you are most interested in? Are they interval ratio or nominal? Why?\n",
    "\n",
    "    C. What are your control variables? Are they interval ratio or nominal? Why?\n",
    "\n",
    "    D. What are your hyphotheses on the relationships between your dependent and independent variables (including control variables)? Make seperate hypotheses for separate independent variables and for intervening relationships that involve multiple independent variables of interest."
   ]
  },
  {
   "cell_type": "markdown",
   "metadata": {},
   "source": [
    "1.\n",
    "\n",
    "[Dependent Variable] = [Part Time] (Enrollment status of student). Section measures if students are either full-time students or are part-times students. This makes it a continuous variable. Full-time students are those who are enrolled in 12 or more semester credits, or 12 or more quarter credits, or 24 or more clock hours a week each term. Part-time students are those enrolled in less than 12 semester or quarter credits, or less than 24 clock hours a week each term. For this work I am only interested in looking at the overall enrollment status and not the differences between part-time and full-time so therefore I do not need to recode the variable.\n",
    "\n",
    "[Independent Varialbes] = [Full Time] & [Demographic Data] \n",
    "\n",
    "Total number of white female students enrolled full time (efwhitwft).\n",
    "Total number of white male students enrolled full time (efwhitmft).\n",
    "Total percent of black students enrolled part time (pctblackpt).\n",
    "Total percent of white students enrolled part time (pctwhitep).\n",
    "\n",
    "All independent variables are nominal as they only reveal if an entry is or is not of a particular race which cannot be ranked.\n",
    "\n",
    "Control Variable: Full Time Status and part time status\n",
    "\n",
    "Hypothesis:\n",
    "\n",
    "H1: I hypothesize that more black students will be part time enrolled than white students.\n",
    "\n",
    "H2: I hypothesis that more white women will be enrolled full time than white men will be enrolled full time."
   ]
  },
  {
   "cell_type": "markdown",
   "metadata": {},
   "source": [
    "## 2. Prepare your data\n",
    "\n",
    "Do the following:\n",
    "\n",
    "    A. Set current directory\n",
    "\n",
    "    B. Set more off\n",
    "\n",
    "    C. Creat log file\n",
    "    \n",
    "    D. Load only variable from the dataset that you will use\n",
    "\n",
    "    E. Use -describe- and -codebook- to see details of the varaibles"
   ]
  },
  {
   "cell_type": "code",
   "execution_count": 1,
   "metadata": {
    "tags": []
   },
   "outputs": [
    {
     "data": {
      "text/html": [
       "<style>div.jp-Notebook .datagrid-container {min-height: 448px; }</style>"
      ],
      "text/plain": [
       "<IPython.core.display.HTML object>"
      ]
     },
     "metadata": {},
     "output_type": "display_data"
    },
    {
     "name": "stdout",
     "output_type": "stream",
     "text": [
      "C:\\Users\\rabid\\Desktop\\01_Grad_Stats_II\\soc211_assignments\\week6\n"
     ]
    }
   ],
   "source": [
    "cd \"C:\\Users\\rabid\\Desktop\\01_Grad_Stats_II\\soc211_assignments\\week6\""
   ]
  },
  {
   "cell_type": "code",
   "execution_count": 13,
   "metadata": {
    "tags": []
   },
   "outputs": [
    {
     "name": "stdout",
     "output_type": "stream",
     "text": [
      "(-set more- irrelevant in this version of Stata)\n"
     ]
    }
   ],
   "source": [
    "set more off"
   ]
  },
  {
   "cell_type": "code",
   "execution_count": 14,
   "metadata": {
    "tags": []
   },
   "outputs": [
    {
     "name": "stdout",
     "output_type": "stream",
     "text": [
      "(file C:\\Users\\rabid\\Desktop\\01_Grad_Stats_II\\soc211_assignments\\week6\\Log\n",
      "    for Research Assignment 2.log not found)\n",
      "-------------------------------------------------------------------------------\n",
      "      name:  <unnamed>\n",
      "       log:  C:\\Users\\rabid\\Desktop\\01_Grad_Stats_II\\soc211_assignments\\week6\\L\n",
      "> og for Research Assignment 2.log\n",
      "  log type:  text\n",
      " opened on:  26 Feb 2024, 11:20:11\n"
     ]
    }
   ],
   "source": [
    "log using \"Log for Research Assignment 2.log\", replace"
   ]
  },
  {
   "cell_type": "code",
   "execution_count": 29,
   "metadata": {
    "tags": []
   },
   "outputs": [
    {
     "name": "stdout",
     "output_type": "stream",
     "text": [
      "(encoding automatically selected: ISO-8859-2)\n",
      "(73 vars, 116,110 obs)\n"
     ]
    }
   ],
   "source": [
    "import delimited \"ef2022a_data_stata.csv\", clear"
   ]
  },
  {
   "cell_type": "markdown",
   "metadata": {},
   "source": [
    "QUESTION: [insheet using] vs [import delimited]? Does it matter? Is [insheet using] intended for there is a large\n",
    "number of variables and it needs to be reduced down and subsequentially handpicked via [keep]?"
   ]
  },
  {
   "cell_type": "markdown",
   "metadata": {
    "tags": []
   },
   "source": [
    "E.G of Alt Code: insheet using ef2022a_data_stata.csv, clear"
   ]
  },
  {
   "cell_type": "code",
   "execution_count": 30,
   "metadata": {
    "tags": []
   },
   "outputs": [
    {
     "name": "stdout",
     "output_type": "stream",
     "text": [
      "(106,267 observations deleted)\n"
     ]
    }
   ],
   "source": [
    "keep if efalevel==22 | efalevel==42"
   ]
  },
  {
   "cell_type": "code",
   "execution_count": 31,
   "metadata": {
    "tags": []
   },
   "outputs": [
    {
     "name": "stdout",
     "output_type": "stream",
     "text": [
      "(4,196 missing values generated)\n",
      "(4,196 real changes made)\n"
     ]
    }
   ],
   "source": [
    "gen time=\"ft\" if efalevel==22\n",
    "replace time=\"pt\" if efalevel==42"
   ]
  },
  {
   "cell_type": "code",
   "execution_count": 32,
   "metadata": {
    "tags": []
   },
   "outputs": [],
   "source": [
    "keep unitid time eftotlt eftotlm eftotlw efasiaw efbkaaw efhispw efnhpiw efwhitw ef2morw efasiam efbkaam efhispm efnhpim efwhitm ef2morm ///\n",
    "efbkaat efwhitt"
   ]
  },
  {
   "cell_type": "code",
   "execution_count": 33,
   "metadata": {
    "tags": []
   },
   "outputs": [
    {
     "name": "stdout",
     "output_type": "stream",
     "text": [
      "(j = ft pt)\n",
      "\n",
      "Data                               Long   ->   Wide\n",
      "-----------------------------------------------------------------------------\n",
      "Number of observations            9,843   ->   5,706       \n",
      "Number of variables                  19   ->   35          \n",
      "j variable (2 values)              time   ->   (dropped)\n",
      "xij variables:\n",
      "                                eftotlt   ->   eftotltft eftotltpt\n",
      "                                eftotlm   ->   eftotlmft eftotlmpt\n",
      "                                eftotlw   ->   eftotlwft eftotlwpt\n",
      "                                efasiam   ->   efasiamft efasiampt\n",
      "                                efasiaw   ->   efasiawft efasiawpt\n",
      "                                efbkaat   ->   efbkaatft efbkaatpt\n",
      "                                efbkaam   ->   efbkaamft efbkaampt\n",
      "                                efbkaaw   ->   efbkaawft efbkaawpt\n",
      "                                efhispm   ->   efhispmft efhispmpt\n",
      "                                efhispw   ->   efhispwft efhispwpt\n",
      "                                efnhpim   ->   efnhpimft efnhpimpt\n",
      "                                efnhpiw   ->   efnhpiwft efnhpiwpt\n",
      "                                efwhitt   ->   efwhittft efwhittpt\n",
      "                                efwhitm   ->   efwhitmft efwhitmpt\n",
      "                                efwhitw   ->   efwhitwft efwhitwpt\n",
      "                                ef2morm   ->   ef2mormft ef2mormpt\n",
      "                                ef2morw   ->   ef2morwft ef2morwpt\n",
      "-----------------------------------------------------------------------------\n"
     ]
    }
   ],
   "source": [
    "reshape wide ef*, i(unitid) j(time, string)"
   ]
  },
  {
   "cell_type": "code",
   "execution_count": 34,
   "metadata": {
    "tags": []
   },
   "outputs": [
    {
     "data": {
      "text/html": [
       "<div>\n",
       "<style scoped>\n",
       "    .dataframe tbody tr th:only-of-type {\n",
       "        vertical-align: middle;\n",
       "    }\n",
       "\n",
       "    .dataframe tbody tr th {\n",
       "        vertical-align: top;\n",
       "    }\n",
       "\n",
       "    .dataframe thead th {\n",
       "        text-align: right;\n",
       "    }\n",
       "</style>\n",
       "<table border=\"1\" class=\"dataframe\">\n",
       "  <thead>\n",
       "    <tr style=\"text-align: right;\">\n",
       "      <th></th>\n",
       "      <th>unitid</th>\n",
       "      <th>eftotltft</th>\n",
       "      <th>eftotlmft</th>\n",
       "      <th>eftotlwft</th>\n",
       "      <th>efasiamft</th>\n",
       "      <th>efasiawft</th>\n",
       "      <th>efbkaatft</th>\n",
       "      <th>efbkaamft</th>\n",
       "      <th>efbkaawft</th>\n",
       "      <th>efhispmft</th>\n",
       "      <th>efhispwft</th>\n",
       "      <th>efnhpimft</th>\n",
       "      <th>efnhpiwft</th>\n",
       "      <th>efwhittft</th>\n",
       "      <th>efwhitmft</th>\n",
       "      <th>efwhitwft</th>\n",
       "      <th>ef2mormft</th>\n",
       "      <th>ef2morwft</th>\n",
       "      <th>eftotltpt</th>\n",
       "      <th>eftotlmpt</th>\n",
       "      <th>eftotlwpt</th>\n",
       "      <th>efasiampt</th>\n",
       "      <th>efasiawpt</th>\n",
       "      <th>efbkaatpt</th>\n",
       "      <th>efbkaampt</th>\n",
       "      <th>efbkaawpt</th>\n",
       "      <th>efhispmpt</th>\n",
       "      <th>efhispwpt</th>\n",
       "      <th>efnhpimpt</th>\n",
       "      <th>efnhpiwpt</th>\n",
       "      <th>efwhittpt</th>\n",
       "      <th>efwhitmpt</th>\n",
       "      <th>efwhitwpt</th>\n",
       "      <th>ef2mormpt</th>\n",
       "      <th>ef2morwpt</th>\n",
       "    </tr>\n",
       "  </thead>\n",
       "  <tbody>\n",
       "    <tr>\n",
       "      <th>1</th>\n",
       "      <td>100654</td>\n",
       "      <td>4794</td>\n",
       "      <td>1937</td>\n",
       "      <td>2857</td>\n",
       "      <td>5</td>\n",
       "      <td>4</td>\n",
       "      <td>4296</td>\n",
       "      <td>1712</td>\n",
       "      <td>2584</td>\n",
       "      <td>19</td>\n",
       "      <td>32</td>\n",
       "      <td>2</td>\n",
       "      <td>5</td>\n",
       "      <td>90</td>\n",
       "      <td>40</td>\n",
       "      <td>50</td>\n",
       "      <td>18</td>\n",
       "      <td>44</td>\n",
       "      <td>412</td>\n",
       "      <td>174</td>\n",
       "      <td>238</td>\n",
       "      <td>1</td>\n",
       "      <td>1</td>\n",
       "      <td>362</td>\n",
       "      <td>156</td>\n",
       "      <td>206</td>\n",
       "      <td>3</td>\n",
       "      <td>5</td>\n",
       "      <td>0</td>\n",
       "      <td>1</td>\n",
       "      <td>13</td>\n",
       "      <td>6</td>\n",
       "      <td>7</td>\n",
       "      <td>2</td>\n",
       "      <td>2</td>\n",
       "    </tr>\n",
       "    <tr>\n",
       "      <th>2</th>\n",
       "      <td>100663</td>\n",
       "      <td>10263</td>\n",
       "      <td>3836</td>\n",
       "      <td>6427</td>\n",
       "      <td>370</td>\n",
       "      <td>587</td>\n",
       "      <td>2551</td>\n",
       "      <td>794</td>\n",
       "      <td>1757</td>\n",
       "      <td>265</td>\n",
       "      <td>483</td>\n",
       "      <td>1</td>\n",
       "      <td>2</td>\n",
       "      <td>5101</td>\n",
       "      <td>2037</td>\n",
       "      <td>3064</td>\n",
       "      <td>188</td>\n",
       "      <td>341</td>\n",
       "      <td>2769</td>\n",
       "      <td>1048</td>\n",
       "      <td>1721</td>\n",
       "      <td>53</td>\n",
       "      <td>56</td>\n",
       "      <td>758</td>\n",
       "      <td>208</td>\n",
       "      <td>550</td>\n",
       "      <td>74</td>\n",
       "      <td>101</td>\n",
       "      <td>1</td>\n",
       "      <td>2</td>\n",
       "      <td>1560</td>\n",
       "      <td>644</td>\n",
       "      <td>916</td>\n",
       "      <td>40</td>\n",
       "      <td>68</td>\n",
       "    </tr>\n",
       "    <tr>\n",
       "      <th>3</th>\n",
       "      <td>100690</td>\n",
       "      <td>129</td>\n",
       "      <td>50</td>\n",
       "      <td>79</td>\n",
       "      <td>0</td>\n",
       "      <td>0</td>\n",
       "      <td>91</td>\n",
       "      <td>28</td>\n",
       "      <td>63</td>\n",
       "      <td>2</td>\n",
       "      <td>2</td>\n",
       "      <td>0</td>\n",
       "      <td>1</td>\n",
       "      <td>31</td>\n",
       "      <td>20</td>\n",
       "      <td>11</td>\n",
       "      <td>0</td>\n",
       "      <td>0</td>\n",
       "      <td>99</td>\n",
       "      <td>33</td>\n",
       "      <td>66</td>\n",
       "      <td>0</td>\n",
       "      <td>0</td>\n",
       "      <td>60</td>\n",
       "      <td>10</td>\n",
       "      <td>50</td>\n",
       "      <td>2</td>\n",
       "      <td>1</td>\n",
       "      <td>0</td>\n",
       "      <td>0</td>\n",
       "      <td>34</td>\n",
       "      <td>21</td>\n",
       "      <td>13</td>\n",
       "      <td>0</td>\n",
       "      <td>0</td>\n",
       "    </tr>\n",
       "    <tr>\n",
       "      <th>4</th>\n",
       "      <td>100706</td>\n",
       "      <td>5861</td>\n",
       "      <td>3535</td>\n",
       "      <td>2326</td>\n",
       "      <td>135</td>\n",
       "      <td>101</td>\n",
       "      <td>487</td>\n",
       "      <td>241</td>\n",
       "      <td>246</td>\n",
       "      <td>224</td>\n",
       "      <td>154</td>\n",
       "      <td>4</td>\n",
       "      <td>7</td>\n",
       "      <td>4185</td>\n",
       "      <td>2592</td>\n",
       "      <td>1593</td>\n",
       "      <td>159</td>\n",
       "      <td>125</td>\n",
       "      <td>1308</td>\n",
       "      <td>730</td>\n",
       "      <td>578</td>\n",
       "      <td>29</td>\n",
       "      <td>29</td>\n",
       "      <td>153</td>\n",
       "      <td>55</td>\n",
       "      <td>98</td>\n",
       "      <td>49</td>\n",
       "      <td>52</td>\n",
       "      <td>0</td>\n",
       "      <td>0</td>\n",
       "      <td>851</td>\n",
       "      <td>527</td>\n",
       "      <td>324</td>\n",
       "      <td>20</td>\n",
       "      <td>28</td>\n",
       "    </tr>\n",
       "    <tr>\n",
       "      <th>5</th>\n",
       "      <td>100724</td>\n",
       "      <td>3042</td>\n",
       "      <td>1095</td>\n",
       "      <td>1947</td>\n",
       "      <td>1</td>\n",
       "      <td>4</td>\n",
       "      <td>2806</td>\n",
       "      <td>984</td>\n",
       "      <td>1822</td>\n",
       "      <td>22</td>\n",
       "      <td>17</td>\n",
       "      <td>3</td>\n",
       "      <td>0</td>\n",
       "      <td>48</td>\n",
       "      <td>17</td>\n",
       "      <td>31</td>\n",
       "      <td>13</td>\n",
       "      <td>23</td>\n",
       "      <td>254</td>\n",
       "      <td>90</td>\n",
       "      <td>164</td>\n",
       "      <td>0</td>\n",
       "      <td>0</td>\n",
       "      <td>243</td>\n",
       "      <td>83</td>\n",
       "      <td>160</td>\n",
       "      <td>1</td>\n",
       "      <td>0</td>\n",
       "      <td>0</td>\n",
       "      <td>0</td>\n",
       "      <td>3</td>\n",
       "      <td>2</td>\n",
       "      <td>1</td>\n",
       "      <td>2</td>\n",
       "      <td>1</td>\n",
       "    </tr>\n",
       "  </tbody>\n",
       "</table>\n",
       "</div>"
      ]
     },
     "metadata": {},
     "output_type": "display_data"
    }
   ],
   "source": [
    "%head"
   ]
  },
  {
   "cell_type": "code",
   "execution_count": 35,
   "metadata": {
    "tags": []
   },
   "outputs": [
    {
     "name": "stdout",
     "output_type": "stream",
     "text": [
      "\n",
      "-------------------------------------------------------------------------------\n",
      "eftotltft                                                            ft eftotlt\n",
      "-------------------------------------------------------------------------------\n",
      "\n",
      "                  Type: Numeric (long)\n",
      "\n",
      "                 Range: [1,112807]                    Units: 1\n",
      "         Unique values: 2,386                     Missing .: 59/5,706\n",
      "\n",
      "                  Mean: 1740.08\n",
      "             Std. dev.: 4428.39\n",
      "\n",
      "           Percentiles:     10%       25%       50%       75%       90%\n",
      "                             33        87       392      1480      4026\n"
     ]
    }
   ],
   "source": [
    "codebook eftotltft"
   ]
  },
  {
   "cell_type": "code",
   "execution_count": 36,
   "metadata": {
    "tags": []
   },
   "outputs": [
    {
     "name": "stdout",
     "output_type": "stream",
     "text": [
      "unitid     efasiawft  efhispwft  efwhitwft  eftotlwpt  efbkaawpt  efwhittpt\n",
      "eftotltft  efbkaatft  efnhpimft  ef2mormft  efasiampt  efhispmpt  efwhitmpt\n",
      "eftotlmft  efbkaamft  efnhpiwft  ef2morwft  efasiawpt  efhispwpt  efwhitwpt\n",
      "eftotlwft  efbkaawft  efwhittft  eftotltpt  efbkaatpt  efnhpimpt  ef2mormpt\n",
      "efasiamft  efhispmft  efwhitmft  eftotlmpt  efbkaampt  efnhpiwpt  ef2morwpt\n"
     ]
    }
   ],
   "source": [
    "ds"
   ]
  },
  {
   "cell_type": "markdown",
   "metadata": {},
   "source": [
    "NOTE: Shortern variable names to \"Full Time Asian Women\" or \"Part Time Asian Women\""
   ]
  },
  {
   "cell_type": "markdown",
   "metadata": {},
   "source": [
    "NOTE: I have renamed all variables as I intend to use more variables in the future and wanted to have this code to refer back to in the future when needed."
   ]
  },
  {
   "cell_type": "code",
   "execution_count": 37,
   "metadata": {
    "tags": []
   },
   "outputs": [],
   "source": [
    "label variable efasiawft \"Asian Women Enrolled Full Time\"\n",
    "label variable efbkaawft \"Black Women Enrolled Full Time\"\n",
    "label variable efhispwft \"Hispanic Women Enrolled Full Time\"\n",
    "label variable efnhpiwft \"Native Hawaiian or Other Pacific Islander Women Enrolled Full Time\"\n",
    "label variable efwhitwft \"White Women Enrolled Full Time\"\n",
    "label variable ef2morwft \"Women of Two or More Races Enrolled Full Time\"\n",
    "label variable eftotlwft \"Total Number of Female Students\"\n",
    "label variable ef2morwpt \"Women of Two or More Races Enrolled Part Time\"\n",
    "label variable efasiawpt \"Asian Women Enrolled Part Time\"\n",
    "label variable efbkaawpt \"Black Women Enrolled Part Time\"\n",
    "label variable efhispwpt \"Hispanic Women Enrolled Part Time\"\n",
    "label variable efnhpiwpt \"Native Hawaiian or Other Pacific Islander Women Enrolled Part Time\"\n",
    "label variable efwhitwpt \"White Women Enrolled Part Time\"\n",
    "\n",
    "label variable efasiamft \"Asian Men Enrolled Full Time\"\n",
    "label variable efbkaamft \"Black Men Enrolled Full Time\"\n",
    "label variable efhispmft \"Hisapnic Men Enrolled Full Time\"\n",
    "label variable efnhpimft \"Native Hawaiian or Other Pacific Islander Men Enrolled Full Time\n",
    "label variable efasiampt \"Asian Men Enrolled Part Time\"\n",
    "label variable efbkaampt \"Black Men Enrolled Part Time\"\n",
    "label variable efhispmpt \"Hisapnic Men Enrolled Part Time\"\n",
    "label variable efnhpimpt \"Native Hawaiian or Other Pacific Islander Men Enrolled Part Time\n",
    "label variable efwhitmpt \"White Men Enrolled Part Time\"\n",
    "label variable efwhitmft \"White Men Enrolled Full Time\"\n",
    "label variable ef2mormpt \"Men of Two or More Races Enrolled Part Time\"\n",
    "label variable eftotlmft \"Total Number of Full Time Male Students\"\n",
    "label variable ef2mormft \"Men of Two or More Races Enrolled Full Time\"\n",
    "\n",
    "label variable efbkaatft \"Total Number of Full Time Black Students\"\n",
    "label variable efwhittft \"Total Number of Full Time White Students\"\n",
    "label variable eftotltft \"Total Number of Full Time Students\"\n",
    "label variable eftotltpt \"Total Number of Part Time Students\"\n",
    "label variable eftotlmpt \"Total Number of Male Part Time Students\"\n",
    "label variable eftotlwpt \"Total Number of Female Part Time Students\"\n",
    "label variable efbkaatpt \"Total Number of Black Part Time Students\"\n",
    "label variable efwhittpt \"Total Number of White Part Time Students\""
   ]
  },
  {
   "cell_type": "code",
   "execution_count": 38,
   "metadata": {
    "collapsed": true,
    "jupyter": {
     "outputs_hidden": true
    },
    "tags": []
   },
   "outputs": [
    {
     "name": "stdout",
     "output_type": "stream",
     "text": [
      "\n",
      "Contains data\n",
      " Observations:         5,706                  \n",
      "    Variables:            35                  \n",
      "-------------------------------------------------------------------------------\n",
      "Variable      Storage   Display    Value\n",
      "    name         type    format    label      Variable label\n",
      "-------------------------------------------------------------------------------\n",
      "unitid          long    %12.0g                UNITID\n",
      "eftotltft       long    %12.0g                Total Number of Full Time\n",
      "                                                Students\n",
      "eftotlmft       long    %8.0g                 Total Number of Full Time Male\n",
      "                                                Students\n",
      "eftotlwft       long    %8.0g                 Total Number of Female Students\n",
      "efasiamft       int     %8.0g                 Asian Men Enrolled Full Time\n",
      "efasiawft       int     %8.0g                 Asian Women Enrolled Full Time\n",
      "efbkaatft       int     %8.0g                 Total Number of Full Time Black\n",
      "                                                Students\n",
      "efbkaamft       int     %8.0g                 Black Men Enrolled Full Time\n",
      "efbkaawft       int     %8.0g                 Black Women Enrolled Full Time\n",
      "efhispmft       int     %8.0g                 Hisapnic Men Enrolled Full Time\n",
      "efhispwft       int     %8.0g                 Hispanic Women Enrolled Full Time\n",
      "efnhpimft       int     %8.0g                 Native Hawaiian or Other Pacific\n",
      "                                                Islander Men Enrolled Full Time\n",
      "efnhpiwft       int     %8.0g                 Native Hawaiian or Other Pacific\n",
      "                                                Islander Women Enrolled Full\n",
      "                                                Time\n",
      "efwhittft       long    %8.0g                 Total Number of Full Time White\n",
      "                                                Students\n",
      "efwhitmft       long    %8.0g                 White Men Enrolled Full Time\n",
      "efwhitwft       long    %8.0g                 White Women Enrolled Full Time\n",
      "ef2mormft       int     %8.0g                 Men of Two or More Races Enrolled\n",
      "                                                Full Time\n",
      "ef2morwft       int     %8.0g                 Women of Two or More Races\n",
      "                                                Enrolled Full Time\n",
      "eftotltpt       long    %12.0g                Total Number of Part Time\n",
      "                                                Students\n",
      "eftotlmpt       long    %8.0g                 Total Number of Male Part Time\n",
      "                                                Students\n",
      "eftotlwpt       long    %8.0g                 Total Number of Female Part Time\n",
      "                                                Students\n",
      "efasiampt       int     %8.0g                 Asian Men Enrolled Part Time\n",
      "efasiawpt       int     %8.0g                 Asian Women Enrolled Part Time\n",
      "efbkaatpt       int     %8.0g                 Total Number of Black Part Time\n",
      "                                                Students\n",
      "efbkaampt       int     %8.0g                 Black Men Enrolled Part Time\n",
      "efbkaawpt       int     %8.0g                 Black Women Enrolled Part Time\n",
      "efhispmpt       int     %8.0g                 Hisapnic Men Enrolled Part Time\n",
      "efhispwpt       int     %8.0g                 Hispanic Women Enrolled Part Time\n",
      "efnhpimpt       int     %8.0g                 Native Hawaiian or Other Pacific\n",
      "                                                Islander Men Enrolled Part Time\n",
      "efnhpiwpt       int     %8.0g                 Native Hawaiian or Other Pacific\n",
      "                                                Islander Women Enrolled Part\n",
      "                                                Time\n",
      "efwhittpt       long    %8.0g                 Total Number of White Part Time\n",
      "                                                Students\n",
      "efwhitmpt       long    %8.0g                 White Men Enrolled Part Time\n",
      "efwhitwpt       long    %8.0g                 White Women Enrolled Part Time\n",
      "ef2mormpt       int     %8.0g                 Men of Two or More Races Enrolled\n",
      "                                                Part Time\n",
      "ef2morwpt       int     %8.0g                 Women of Two or More Races\n",
      "                                                Enrolled Part Time\n",
      "-------------------------------------------------------------------------------\n",
      "Sorted by: unitid\n",
      "     Note: Dataset has changed since last saved.\n"
     ]
    }
   ],
   "source": [
    "describe"
   ]
  },
  {
   "cell_type": "markdown",
   "metadata": {
    "tags": []
   },
   "source": [
    "QUESTION: What does NOL do in terms of making a difference in commands between [tab section] vs [tab section,  nol]"
   ]
  },
  {
   "cell_type": "markdown",
   "metadata": {},
   "source": [
    "## 3. Use scatterplots to visually assess relationships between your dependent variable and all of your independent variables\n",
    "\n",
    "    A. Quietly generate scatterplots for the dependent variable and each independent variable (including contol variables). Then use graph combine to examine all of the scatter plots.\n",
    "\n",
    "    B. Write a paragraph interpreting what the scatterplots show"
   ]
  },
  {
   "cell_type": "markdown",
   "metadata": {},
   "source": [
    "Model 2 - Percent of White Women Enrolled Full Time Compared to the Percent of White Men Enrolled Full Time"
   ]
  },
  {
   "cell_type": "code",
   "execution_count": 39,
   "metadata": {
    "tags": []
   },
   "outputs": [
    {
     "name": "stdout",
     "output_type": "stream",
     "text": [
      "(59 missing values generated)\n",
      "(59 missing values generated)\n"
     ]
    }
   ],
   "source": [
    "gen pctefwhitwft=efwhitwft\n",
    "gen pctefwhitmft=efwhitmft"
   ]
  },
  {
   "cell_type": "code",
   "execution_count": 44,
   "metadata": {
    "tags": []
   },
   "outputs": [
    {
     "data": {
      "image/png": "[encoded data removed]",
      "text/plain": [
       "<IPython.core.display.Image object>"
      ]
     },
     "metadata": {},
     "output_type": "display_data"
    }
   ],
   "source": [
    "graph bar pctefwhitwft pctefwhitmft"
   ]
  },
  {
   "cell_type": "code",
   "execution_count": 46,
   "metadata": {
    "tags": []
   },
   "outputs": [
    {
     "data": {
      "image/png": "[encoded data removed]",
      "text/plain": [
       "<IPython.core.display.Image object>"
      ]
     },
     "metadata": {},
     "output_type": "display_data"
    }
   ],
   "source": [
    "   graph twoway (scatter pctefwhitwft pctefwhitmft) (lfit pctefwhitwft pctefwhitmft, color(red)), ///\n",
    "    name(totalptbyft, replace) legend(off) ytitle(full time enrollment) scheme(plotplainblind)"
   ]
  },
  {
   "cell_type": "markdown",
   "metadata": {},
   "source": [
    "Model 1 - Percent of Black Part Time Students Compared to Percent of White Part Time Students"
   ]
  },
  {
   "cell_type": "code",
   "execution_count": 41,
   "metadata": {
    "tags": []
   },
   "outputs": [
    {
     "name": "stdout",
     "output_type": "stream",
     "text": [
      "(1,748 missing values generated)\n",
      "(1,692 missing values generated)\n"
     ]
    }
   ],
   "source": [
    "gen pctblackpt=efbkaatpt / (efbkaatpt+efbkaatft) * 100\n",
    "gen pctwhitept=efwhittpt / (efwhittft+efwhittpt) * 100"
   ]
  },
  {
   "cell_type": "code",
   "execution_count": 43,
   "metadata": {
    "tags": []
   },
   "outputs": [
    {
     "data": {
      "image/png": "[encoded data removed]",
      "text/plain": [
       "<IPython.core.display.Image object>"
      ]
     },
     "metadata": {},
     "output_type": "display_data"
    }
   ],
   "source": [
    "graph bar pctblackpt pctwhitept"
   ]
  },
  {
   "cell_type": "code",
   "execution_count": 15,
   "metadata": {
    "tags": []
   },
   "outputs": [
    {
     "data": {
      "image/png": "[encoded data removed]",
      "text/plain": [
       "<IPython.core.display.Image object>"
      ]
     },
     "metadata": {},
     "output_type": "display_data"
    }
   ],
   "source": [
    "   graph twoway (scatter pctblackpt pctwhitept) (lfit pctblackpt pctwhitept, color(red)), ///\n",
    "    name(totalptbyft, replace) legend(off) ytitle(part time enrollment) scheme(plotplainblind)"
   ]
  },
  {
   "cell_type": "code",
   "execution_count": 16,
   "metadata": {
    "tags": []
   },
   "outputs": [
    {
     "data": {
      "image/png": "[encoded data removed]",
      "text/plain": [
       "<IPython.core.display.Image object>"
      ]
     },
     "metadata": {},
     "output_type": "display_data"
    }
   ],
   "source": [
    "      graph twoway (scatter eftotltpt eftotltft) (lfit eftotltpt eftotltft, color(red)), ///\n",
    "    name(totalptbyft, replace) legend(off) ytitle(part time enrollment) scheme(plotplainblind)"
   ]
  },
  {
   "cell_type": "code",
   "execution_count": 17,
   "metadata": {
    "tags": []
   },
   "outputs": [
    {
     "data": {
      "image/png": "[encoded data removed]",
      "text/plain": [
       "<IPython.core.display.Image object>"
      ]
     },
     "metadata": {},
     "output_type": "display_data"
    }
   ],
   "source": [
    "foreach x in eftotlt {\n",
    "  graph twoway (scatter `x'pt `x'ft) (lfit `x'pt `x'ft, color(red)), ///\n",
    "    name(`x', replace) legend(off) ytitle(section) scheme(plotplainblind)\n",
    "}"
   ]
  },
  {
   "cell_type": "code",
   "execution_count": null,
   "metadata": {},
   "outputs": [],
   "source": [
    "gen pctwhiteft=efwhittpt / (efbkaatpt+efbkaatft) * 100\n",
    "gen pctwhitept=efwhittpt / (efwhittft+efwhittpt) * 100"
   ]
  },
  {
   "cell_type": "code",
   "execution_count": 18,
   "metadata": {
    "tags": []
   },
   "outputs": [
    {
     "name": "stdout",
     "output_type": "stream",
     "text": [
      "graph size was (5.5in, 4in), is now (11, 4in).\n"
     ]
    }
   ],
   "source": [
    "%set graph_width = 11"
   ]
  },
  {
   "cell_type": "code",
   "execution_count": 19,
   "metadata": {
    "tags": []
   },
   "outputs": [
    {
     "name": "stdout",
     "output_type": "stream",
     "text": [
      "graph size was (11, 4in), is now (11, 8).\n"
     ]
    }
   ],
   "source": [
    "%set graph_height = 8"
   ]
  },
  {
   "cell_type": "markdown",
   "metadata": {},
   "source": [
    "NOTE: Ran below code but unsure what to do when specific variables are said to not be a \"memory graph\""
   ]
  },
  {
   "cell_type": "code",
   "execution_count": 48,
   "metadata": {
    "tags": []
   },
   "outputs": [
    {
     "name": "stdout",
     "output_type": "stream",
     "text": [
      "\u001b[31mpctblackpt is not a memory graph\n",
      "r(198);\u001b[0m\n"
     ]
    }
   ],
   "source": [
    "graph combine pctblackpt pctwhitept efwhitwft efwhitmft, col(3) scheme(plotplainblind) xsize(4)"
   ]
  },
  {
   "cell_type": "markdown",
   "metadata": {},
   "source": [
    "## 4. Assess multicorrelation among your independent variables\n",
    "\n",
    "    A. Create a correlation matrix for all of your variables.\n",
    "\n",
    "    B. . Write bullet points or a short paragraph summarizing what the matrix shows."
   ]
  },
  {
   "cell_type": "code",
   "execution_count": 50,
   "metadata": {
    "tags": []
   },
   "outputs": [
    {
     "name": "stdout",
     "output_type": "stream",
     "text": [
      "\n",
      "             | efto~tpt pctbla~t pctwhi~t pcte~wft pcte~mft\n",
      "-------------+---------------------------------------------\n",
      "   eftotltpt |   1.0000 \n",
      "  pctblackpt |   0.3137   1.0000 \n",
      "  pctwhitept |   0.3294   0.8486   1.0000 \n",
      "pctefwhitwft |   0.2809  -0.1747  -0.2001   1.0000 \n",
      "pctefwhitmft |   0.2689  -0.1648  -0.1881   0.9580   1.0000 \n"
     ]
    }
   ],
   "source": [
    "pwcorr eftotltpt pctblackpt pctwhitept pctefwhitwft pctefwhitmft"
   ]
  },
  {
   "cell_type": "markdown",
   "metadata": {},
   "source": [
    "B.\n",
    "\n",
    "As indicated by the bargraphs, there is a greater proportion of white female students enrolled full time than\n",
    "there are white males enrolled full time. The correlation between white female students enrolled full time and white\n",
    "male students enrolled full time is strong.\n",
    "\n",
    "As indicatedby the the bar grapphs above, there is about equal percent of white studnets enrolled part time as\n",
    "there is black students enrolled part time. The correlation between white students enrolled part time and\n",
    "black students enrolled part time is weak."
   ]
  },
  {
   "cell_type": "markdown",
   "metadata": {
    "tags": []
   },
   "source": [
    "## 5. Describe at least 2 OLS models to test your hypotheses\n",
    "\n",
    "Write a paragraph or a set of bullet points that explain:\n",
    "\n",
    "    A. Which model tests which of your hypotheses\n",
    "    \n",
    "    B. Which variables are included in each model\n",
    "    \n",
    "    B. How/why adding particular variables to subsequent models will test for spurious or intervening relationships"
   ]
  },
  {
   "cell_type": "markdown",
   "metadata": {},
   "source": [
    "Model 1 tests H1\n",
    "Model 2 tests H2"
   ]
  },
  {
   "cell_type": "markdown",
   "metadata": {},
   "source": [
    "Model 1: white female student enrolled full time and white male students enrolled full time\n",
    "Model 2: total number of black student enrolled part time and total number of white students enrolled part time"
   ]
  },
  {
   "cell_type": "markdown",
   "metadata": {
    "tags": []
   },
   "source": [
    "NOTE: It is unclear to me how to test for spurious or intervening relationships with these variables beyon testing the\n",
    "differences bewteen full time and part time status for other students, but that would only reveal characteristics\n",
    "of the other students."
   ]
  },
  {
   "cell_type": "markdown",
   "metadata": {},
   "source": [
    "## 6. Write OLS regression equations for each model\n",
    "\n",
    "Use subscripts to indicate which symbols represesent your different independent variables. To do so, you can copy and paste the LaTex code in this week's lesson notebook and edit the subscripts."
   ]
  },
  {
   "cell_type": "markdown",
   "metadata": {},
   "source": [
    "## Model 1\n",
    "$\\hat{Y} = \\alpha + \\beta \\times x $\n",
    "\n",
    "$\\hat{Y} = \\alpha + \\beta_1 \\cdot x_1 + \\beta_2 \\cdot x_2. ... + \\beta_2 \\cdot x_2 $\n",
    "\n",
    "$x_1$ = white female students full time status\n",
    "\n",
    "$x_2$ = white male studdent full time status\n",
    "\n"
   ]
  },
  {
   "cell_type": "markdown",
   "metadata": {},
   "source": [
    "## Model 2\n",
    "$\\hat{Y} = \\alpha + \\beta \\times x $\n",
    "\n",
    "$\\hat{Y} = \\alpha + \\beta_1 \\cdot x_1 + \\beta_2 \\cdot x_2. ... + \\beta_2 \\cdot x_2 $\n",
    "\n",
    "$x_1$ = percent of black part time students\n",
    "\n",
    "$x_2$ = percent of white part time students"
   ]
  },
  {
   "cell_type": "markdown",
   "metadata": {},
   "source": [
    "## 7. Estimate your models with stata\n",
    "\n",
    "    A. Write Stata code to estimate the models and store the regression results\n",
    "    \n",
    "    B. Write code to output the estimates in a table within Jupyter Notebook in HTML (with %html magic) and as an RTF file"
   ]
  },
  {
   "cell_type": "markdown",
   "metadata": {},
   "source": [
    "NOTE: [eststo] is a code that saves the results generated by the code. Be sure to use the code within Charlies lecture\n",
    "notes"
   ]
  },
  {
   "cell_type": "markdown",
   "metadata": {},
   "source": [
    "NOTE: 7B uses esttab. This takes the results from multiple regressions and puts them into a legible table\n",
    "(IE a combined regression result table)"
   ]
  },
  {
   "cell_type": "code",
   "execution_count": 52,
   "metadata": {},
   "outputs": [
    {
     "name": "stdout",
     "output_type": "stream",
     "text": [
      "\u001b[31mcommand efwhitwft is unrecognized\n",
      "r(199);\u001b[0m\n"
     ]
    }
   ],
   "source": [
    "est clear\n",
    "\n",
    "quietly eststo: efwhitwft pctefwhitwmt\n",
    "\n",
    "quietly eststo: pctblackpt pctwhitept"
   ]
  },
  {
   "cell_type": "markdown",
   "metadata": {},
   "source": [
    "NOTE: My variables are again coming across as unrecognized despite the fact that they are recognized previously"
   ]
  },
  {
   "cell_type": "code",
   "execution_count": 54,
   "metadata": {
    "tags": []
   },
   "outputs": [
    {
     "name": "stdout",
     "output_type": "stream",
     "text": [
      "\u001b[31mlast estimates (.) not found\n",
      "r(301);\u001b[0m\n"
     ]
    }
   ],
   "source": [
    "esttab, stats(r2 N, labels(\"R-Squared\" \"N\")) cells(b(star fmt(3)) se(fmt(3) par)) /// \n",
    "  nobase mlabels (\"Model 1\" \"Model 2\") starlevels(* .05 ** .01 *** .001) ///\n",
    "  coeflabels (section \"Enrollment Status\" 2.race \"white\" 3.race \"two or more races\") noconstant"
   ]
  },
  {
   "cell_type": "markdown",
   "metadata": {},
   "source": [
    "## 8. Summarize the results for your hypotheses\n",
    "\n",
    "    A. Which of your hypotheses are supported and which are rejected by the (in)consistency of coefficients across all of your models?\n",
    "    \n",
    "    B. Which of your hypotheses regarding intervening or spurious relationships are supported / rejected by similarities / differences in coefficients across all of your models?\n",
    "\n",
    "    C. What ideas do you have for why any of your hypotheses were rejected? Are there additional omitted variables do you think you should include to test your hypotheses that might change your results? Why?"
   ]
  },
  {
   "cell_type": "markdown",
   "metadata": {},
   "source": [
    "A. My first hypothesis is rejected and my second hypothesis is supported.\n",
    "\n",
    "B. It is unclear how to test for spurious relationships with the variables I am currently provided.\n",
    "\n",
    "C. My first hypothesis may have been rejected because because the overall total of white and black students may have the same enrollment rate, but there may be different enrollment rates at different specific institutions. If I were to examine enrollment rates by specific institutions, e.g. public vs private, then there might be different findings. But taken at the macro level and looking at all universities and colleges together there may be a smoothing out of the average rates of enrollment of students between these two groups."
   ]
  },
  {
   "cell_type": "code",
   "execution_count": null,
   "metadata": {},
   "outputs": [],
   "source": []
  }
 ],
 "metadata": {
  "kernelspec": {
   "display_name": "Stata (nbstata)",
   "language": "stata",
   "name": "nbstata"
  },
  "language_info": {
   "file_extension": ".do",
   "mimetype": "text/x-stata",
   "name": "stata",
   "version": "17"
  }
 },
 "nbformat": 4,
 "nbformat_minor": 4
}
