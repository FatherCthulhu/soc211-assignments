{
 "cells": [
  {
   "cell_type": "markdown",
   "metadata": {},
   "source": [
    "# Problem set 3\n",
    "\n",
    "Andrew Martin\n",
    "\n",
    "Loan Repayment and State Aid\n",
    "\n",
    "03/01/24"
   ]
  },
  {
   "cell_type": "markdown",
   "metadata": {},
   "source": [
    "## 1. Develop hypotheses about two non-linear relationships [1 pt]\n",
    "\n",
    "You can use the GSS data, Student aid data, or your own data. Develop at least 2 hypotheses about non-linear relationships in your dataset of choice that do the following:\n",
    "\n",
    "    A. Use the form: The DV will change positive/negatively if the IV changes positively/negatively/categorically (specify what the variables measure and what the categories are if you have a categorical hypothesis)\n",
    "    \n",
    "    - The percent of loan repaid by an individual is positively impacted if the amount of aid provided by a state is positively increased.\n",
    "\n",
    "    B. State if you expect each hypothesized relationship will be linear or take one of the 5 non-linear forms (1. nominal, 2. sequential dummies, 3. splines, 4. quadratic, 5. logarithmic). You tell us at least two different non-linear forms that you think your hypothesized relationships will or will not take.\n",
    "    \n",
    "    - I believe the relationship will take the form of both a linear spline and a piecewise cubic spline.\n",
    "\n",
    "    C. State your explanation why (theory) you make the predictions in A. and B.\n",
    "    \n",
    "    - Because the more aid a state provides the smaller a loan a person needs to take, resulting in fewer payments over time, and thus an easier time to pay back a greater percentage of the loan.\n",
    "\n",
    "    D. Tell us the source of your data and describe its sample.\n",
    "    \n",
    "    - Data Source: Dr. Eatons loanrepay data for 2013 that collects college financial aid for students with higher education institutions research level for different colleges and universities in the US."
   ]
  },
  {
   "cell_type": "markdown",
   "metadata": {},
   "source": [
    "## 2. Conduct statistical tests for your hypothesized relationship: [3 pts]\n",
    "\n",
    "* Estimate at least 2 different types of non-linear models that test your hypotheses.\n",
    "\n",
    "* Use appropriate regression and graphical representations to represent each model.\n",
    "\n",
    "* Use esttab to compare between types of non-linear and linear models"
   ]
  },
  {
   "cell_type": "code",
   "execution_count": 3,
   "metadata": {},
   "outputs": [
    {
     "name": "stdout",
     "output_type": "stream",
     "text": [
      "\u001b[31mset error:\n",
      "    parsing errors:\n",
      "\t[line  2]: 'graph_format svg'\u001b[0m\n"
     ]
    }
   ],
   "source": [
    "%set graph_format svg"
   ]
  },
  {
   "cell_type": "code",
   "execution_count": 4,
   "metadata": {
    "tags": []
   },
   "outputs": [],
   "source": [
    "qui log using w7lesson_log20200304.log, replace"
   ]
  },
  {
   "cell_type": "markdown",
   "metadata": {},
   "source": [
    "NOTE: Load Data Set"
   ]
  },
  {
   "cell_type": "code",
   "execution_count": 5,
   "metadata": {
    "tags": []
   },
   "outputs": [
    {
     "name": "stdout",
     "output_type": "stream",
     "text": [
      "(-set more- irrelevant in this version of Stata)\n"
     ]
    }
   ],
   "source": [
    "set more off"
   ]
  },
  {
   "cell_type": "code",
   "execution_count": 6,
   "metadata": {
    "tags": []
   },
   "outputs": [
    {
     "name": "stdout",
     "output_type": "stream",
     "text": [
      "(19 vars, 33 obs)\n"
     ]
    }
   ],
   "source": [
    "insheet using loanrepay2013_highestresearch.csv, clear"
   ]
  },
  {
   "cell_type": "code",
   "execution_count": 7,
   "metadata": {
    "tags": []
   },
   "outputs": [
    {
     "name": "stdout",
     "output_type": "stream",
     "text": [
      "opeid         instnm        all_under     sgrnt_low_~c  xstring\n",
      "acceptrate    stabbr        netprice4l~e  igrnt_low_~c  ystring\n",
      "y_lo_inc_rpy  hgroup        spend_ugd_~w  sandigrnt_~c  markerlabel\n",
      "lo_inc_deb~n  upgrntn       x_aid_byst~r  instatetui~n\n"
     ]
    }
   ],
   "source": [
    "ds"
   ]
  },
  {
   "cell_type": "markdown",
   "metadata": {},
   "source": [
    "NOTE: Variables of Interest\n",
    "1. Dependent Variable = Loan Repayment [igrnt_low_~c]\n",
    "\n",
    "2. Independent Variable = Aid by state [x_aid_byst~r]"
   ]
  },
  {
   "cell_type": "markdown",
   "metadata": {},
   "source": [
    "QUESTION: Why is there no [control variable] for this assignment?"
   ]
  },
  {
   "cell_type": "code",
   "execution_count": 8,
   "metadata": {
    "tags": []
   },
   "outputs": [
    {
     "name": "stdout",
     "output_type": "stream",
     "text": [
      "\n",
      "-------------------------------------------------------------------------------\n",
      "igrnt_low_inc                                                       (unlabeled)\n",
      "-------------------------------------------------------------------------------\n",
      "\n",
      "                  Type: Numeric (float)\n",
      "\n",
      "                 Range: [3598.4646,32927.473]         Units: .0001\n",
      "         Unique values: 33                        Missing .: 0/33\n",
      "\n",
      "                  Mean: 15096.3\n",
      "             Std. dev.: 7267.91\n",
      "\n",
      "           Percentiles:     10%       25%       50%       75%       90%\n",
      "                        8082.98   10928.7   12994.1   19387.6   25252.8\n",
      "\n",
      "-------------------------------------------------------------------------------\n",
      "x_aid_bysticker                                                 X_aid_bysticker\n",
      "-------------------------------------------------------------------------------\n",
      "\n",
      "                  Type: Numeric (float)\n",
      "\n",
      "                 Range: [.0455,59.5033]               Units: .0001\n",
      "         Unique values: 23                        Missing .: 0/33\n",
      "\n",
      "                  Mean: 27.4291\n",
      "             Std. dev.: 20.0201\n",
      "\n",
      "           Percentiles:     10%       25%       50%       75%       90%\n",
      "                         3.2277    8.3263   27.0714   43.5452   54.2455\n"
     ]
    }
   ],
   "source": [
    "codebook igrnt_low_~c x_aid_byst~r"
   ]
  },
  {
   "cell_type": "code",
   "execution_count": 9,
   "metadata": {
    "tags": []
   },
   "outputs": [
    {
     "name": "stdout",
     "output_type": "stream",
     "text": [
      "\n",
      "-------------------------------------------------------------------------------\n",
      "igrnt_low_inc                                                  % Loan Repayment\n",
      "-------------------------------------------------------------------------------\n",
      "\n",
      "                  Type: Numeric (float)\n",
      "\n",
      "                 Range: [3598.4646,32927.473]         Units: .0001\n",
      "         Unique values: 33                        Missing .: 0/33\n",
      "\n",
      "                  Mean: 15096.3\n",
      "             Std. dev.: 7267.91\n",
      "\n",
      "           Percentiles:     10%       25%       50%       75%       90%\n",
      "                        8082.98   10928.7   12994.1   19387.6   25252.8\n",
      "\n",
      "-------------------------------------------------------------------------------\n",
      "x_aid_bysticker                                                    aid by state\n",
      "-------------------------------------------------------------------------------\n",
      "\n",
      "                  Type: Numeric (float)\n",
      "\n",
      "                 Range: [.0455,59.5033]               Units: .0001\n",
      "         Unique values: 23                        Missing .: 0/33\n",
      "\n",
      "                  Mean: 27.4291\n",
      "             Std. dev.: 20.0201\n",
      "\n",
      "           Percentiles:     10%       25%       50%       75%       90%\n",
      "                         3.2277    8.3263   27.0714   43.5452   54.2455\n"
     ]
    }
   ],
   "source": [
    "label variable igrnt_low_~c \"% Loan Repayment\"\n",
    "label variable x_aid_byst~r \"aid by state\"\n",
    "codebook igrnt_low_~c x_aid_byst~r"
   ]
  },
  {
   "cell_type": "code",
   "execution_count": 10,
   "metadata": {
    "tags": []
   },
   "outputs": [
    {
     "name": "stdout",
     "output_type": "stream",
     "text": [
      "\n",
      "    Variable |        Obs        Mean    Std. dev.       Min        Max\n",
      "-------------+---------------------------------------------------------\n",
      "igrnt_low_~c |         33    15096.32    7267.912   3598.465   32927.47\n",
      "x_aid_byst~r |         33    27.42915    20.02007      .0455    59.5033\n"
     ]
    }
   ],
   "source": [
    "sum igrnt_low_inc x_aid_bysticker"
   ]
  },
  {
   "cell_type": "code",
   "execution_count": 11,
   "metadata": {
    "tags": []
   },
   "outputs": [],
   "source": [
    "xtile aidbystickerquant = x_aid_bysticker, nq(5)"
   ]
  },
  {
   "cell_type": "code",
   "execution_count": 12,
   "metadata": {
    "tags": []
   },
   "outputs": [
    {
     "name": "stdout",
     "output_type": "stream",
     "text": [
      "\n",
      "                        aid by state\n",
      "-------------------------------------------------------------\n",
      "      Percentiles      Smallest\n",
      " 1%        .0455          .0455\n",
      " 5%       1.7579         1.7579\n",
      "10%       3.2277         1.7579       Obs                  33\n",
      "25%       8.3263         3.2277       Sum of wgt.          33\n",
      "\n",
      "50%      27.0714                      Mean           27.42915\n",
      "                        Largest       Std. dev.      20.02007\n",
      "75%      43.5452        54.2455\n",
      "90%      54.2455        54.2455       Variance       400.8031\n",
      "95%      54.2455        54.2455       Skewness       .1371083\n",
      "99%      59.5033        59.5033       Kurtosis       1.557661\n",
      "\n",
      "5 quantiles |\n",
      "         of |\n",
      "x_aid_bysti |\n",
      "       cker |      Freq.     Percent        Cum.\n",
      "------------+-----------------------------------\n",
      "          1 |          7       21.21       21.21\n",
      "          2 |          7       21.21       42.42\n",
      "          3 |          6       18.18       60.61\n",
      "          4 |         12       36.36       96.97\n",
      "          5 |          1        3.03      100.00\n",
      "------------+-----------------------------------\n",
      "      Total |         33      100.00\n"
     ]
    }
   ],
   "source": [
    "sum x_aid_bysticker, detail\n",
    "tab aidbystickerquant"
   ]
  },
  {
   "cell_type": "code",
   "execution_count": 13,
   "metadata": {
    "tags": []
   },
   "outputs": [
    {
     "data": {
      "text/html": [
       "<div>\n",
       "<style scoped>\n",
       "    .dataframe tbody tr th:only-of-type {\n",
       "        vertical-align: middle;\n",
       "    }\n",
       "\n",
       "    .dataframe tbody tr th {\n",
       "        vertical-align: top;\n",
       "    }\n",
       "\n",
       "    .dataframe thead th {\n",
       "        text-align: right;\n",
       "    }\n",
       "</style>\n",
       "<table border=\"1\" class=\"dataframe\">\n",
       "  <thead>\n",
       "    <tr style=\"text-align: right;\">\n",
       "      <th></th>\n",
       "      <th>igrnt_low_inc</th>\n",
       "      <th>x_aid_bysticker</th>\n",
       "      <th>aidbystickerquant</th>\n",
       "    </tr>\n",
       "  </thead>\n",
       "  <tbody>\n",
       "    <tr>\n",
       "      <th>1</th>\n",
       "      <td>19437.52</td>\n",
       "      <td>5.5465</td>\n",
       "      <td>1</td>\n",
       "    </tr>\n",
       "    <tr>\n",
       "      <th>2</th>\n",
       "      <td>18634.25</td>\n",
       "      <td>54.2455</td>\n",
       "      <td>4</td>\n",
       "    </tr>\n",
       "    <tr>\n",
       "      <th>3</th>\n",
       "      <td>12932.19</td>\n",
       "      <td>54.2455</td>\n",
       "      <td>4</td>\n",
       "    </tr>\n",
       "    <tr>\n",
       "      <th>4</th>\n",
       "      <td>8817.969</td>\n",
       "      <td>54.2455</td>\n",
       "      <td>4</td>\n",
       "    </tr>\n",
       "    <tr>\n",
       "      <th>5</th>\n",
       "      <td>14774.94</td>\n",
       "      <td>54.2455</td>\n",
       "      <td>4</td>\n",
       "    </tr>\n",
       "  </tbody>\n",
       "</table>\n",
       "</div>"
      ]
     },
     "metadata": {},
     "output_type": "display_data"
    }
   ],
   "source": [
    "%head igrnt_low_inc x_aid_bysticker aidbystickerquant"
   ]
  },
  {
   "cell_type": "markdown",
   "metadata": {},
   "source": [
    "#QUESTION: Why is [aidbystickerquant] mostly listed as \"4? What does that mean and does it matter?"
   ]
  },
  {
   "cell_type": "code",
   "execution_count": 14,
   "metadata": {
    "tags": []
   },
   "outputs": [
    {
     "name": "stdout",
     "output_type": "stream",
     "text": [
      "\n",
      "    Variable |        Obs        Mean    Std. dev.       Min        Max\n",
      "-------------+---------------------------------------------------------\n",
      "x_aid_byst~r |          7    2.882271    1.866674      .0455     5.5465\n"
     ]
    }
   ],
   "source": [
    "sum x_aid_bysticker if aidbystickerquant==1"
   ]
  },
  {
   "cell_type": "code",
   "execution_count": 15,
   "metadata": {
    "tags": []
   },
   "outputs": [
    {
     "name": "stdout",
     "output_type": "stream",
     "text": [
      "\n",
      "    Variable |        Obs        Mean    Std. dev.       Min        Max\n",
      "-------------+---------------------------------------------------------\n",
      "x_aid_byst~r |         12     48.1772    6.919342    38.7287    54.2455\n"
     ]
    }
   ],
   "source": [
    "sum x_aid_bysticker if aidbystickerquant==4"
   ]
  },
  {
   "cell_type": "markdown",
   "metadata": {},
   "source": [
    "#QUESTION: Is it okay that the [min] and [max] are listed as [1] and [4]?"
   ]
  },
  {
   "cell_type": "markdown",
   "metadata": {},
   "source": [
    "# RUNNING A BASIC LINEAR REGRESSION"
   ]
  },
  {
   "cell_type": "code",
   "execution_count": 16,
   "metadata": {
    "tags": []
   },
   "outputs": [
    {
     "name": "stdout",
     "output_type": "stream",
     "text": [
      "\n",
      "      Source |       SS           df       MS      Number of obs   =        33\n",
      "-------------+----------------------------------   F(1, 31)        =      3.30\n",
      "       Model |   162560546         1   162560546   Prob > F        =    0.0790\n",
      "    Residual |  1.5278e+09        31  49282603.7   R-squared       =    0.0962\n",
      "-------------+----------------------------------   Adj R-squared   =    0.0670\n",
      "       Total |  1.6903e+09        32  52822539.3   Root MSE        =    7020.2\n",
      "\n",
      "------------------------------------------------------------------------------\n",
      "igrnt_low_~c | Coefficient  Std. err.      t    P>|t|     [95% conf. interval]\n",
      "-------------+----------------------------------------------------------------\n",
      "x_aid_byst~r |  -112.5815   61.98781    -1.82   0.079    -239.0065    13.84347\n",
      "       _cons |   18184.34   2093.881     8.68   0.000     13913.84    22454.84\n",
      "------------------------------------------------------------------------------\n",
      "(est1 stored)\n"
     ]
    }
   ],
   "source": [
    "eststo: regress igrnt_low_inc x_aid_bysticker"
   ]
  },
  {
   "cell_type": "markdown",
   "metadata": {
    "tags": []
   },
   "source": [
    "NOTE: Compare the above simple regression to the subsequent two non-linear"
   ]
  },
  {
   "cell_type": "markdown",
   "metadata": {},
   "source": [
    "# MAKING A LINEAR SPLINE"
   ]
  },
  {
   "cell_type": "code",
   "execution_count": 17,
   "metadata": {
    "tags": []
   },
   "outputs": [
    {
     "name": "stdout",
     "output_type": "stream",
     "text": [
      "(bin=5, start=.0455, width=9.6263401)\n",
      "(bin=5, start=0, width=2.2652199)\n"
     ]
    },
    {
     "data": {
      "image/png": "[encoded data removed]",
      "text/plain": [
       "<IPython.core.display.Image object>"
      ]
     },
     "metadata": {},
     "output_type": "display_data"
    },
    {
     "data": {
      "image/png": "[encoded data removed]",
      "text/plain": [
       "<IPython.core.display.Image object>"
      ]
     },
     "metadata": {},
     "output_type": "display_data"
    }
   ],
   "source": [
    "mkspline aidbysticker1 48.1772 aidbysticker2 = x_aid_bysticker\n",
    "\n",
    "histogram aidbysticker1, name(hist3)\n",
    "histogram aidbysticker2, name(hist4)"
   ]
  },
  {
   "cell_type": "markdown",
   "metadata": {},
   "source": [
    "QUESTION: Why am I getting this error of [graph hist1 already exists] r(110)? I ran this with different variables and\n",
    "keep getting it."
   ]
  },
  {
   "cell_type": "code",
   "execution_count": 18,
   "metadata": {
    "tags": []
   },
   "outputs": [
    {
     "name": "stdout",
     "output_type": "stream",
     "text": [
      "\n",
      "      Source |       SS           df       MS      Number of obs   =        33\n",
      "-------------+----------------------------------   F(2, 30)        =      2.71\n",
      "       Model |   258288440         2   129144220   Prob > F        =    0.0831\n",
      "    Residual |  1.4320e+09        30  47734427.3   R-squared       =    0.1528\n",
      "-------------+----------------------------------   Adj R-squared   =    0.0963\n",
      "       Total |  1.6903e+09        32  52822539.3   Root MSE        =      6909\n",
      "\n",
      "------------------------------------------------------------------------------\n",
      "igrnt_low_~c | Coefficient  Std. err.      t    P>|t|     [95% conf. interval]\n",
      "-------------+----------------------------------------------------------------\n",
      "aidbystick~1 |  -201.9935   87.79642    -2.30   0.029    -381.2977   -22.68924\n",
      "aidbystick~2 |    641.941   536.2869     1.20   0.241    -453.3029    1737.185\n",
      "       _cons |   19393.37   2230.584     8.69   0.000      14837.9    23948.83\n",
      "------------------------------------------------------------------------------\n",
      "(est2 stored)\n",
      "(option xb assumed; fitted values)\n"
     ]
    },
    {
     "data": {
      "image/png": "[encoded data removed]",
      "text/plain": [
       "<IPython.core.display.Image object>"
      ]
     },
     "metadata": {},
     "output_type": "display_data"
    }
   ],
   "source": [
    "eststo: reg igrnt_low_inc aidbysticker1 aidbysticker2\n",
    "predict yhat\n",
    "\n",
    "*Graph the fited spline lines for college net price\n",
    "tw (scatter igrnt_low_inc x_aid_bysticker) (line yhat hgroup, sort color(red) lwidth(thick))"
   ]
  },
  {
   "cell_type": "code",
   "execution_count": 19,
   "metadata": {},
   "outputs": [
    {
     "name": "stdout",
     "output_type": "stream",
     "text": [
      "\n",
      "--------------------------------------------\n",
      "                      (1)             (2)   \n",
      "             igrnt_low_~c    igrnt_low_~c   \n",
      "--------------------------------------------\n",
      "x_aid_byst~r       -112.6                   \n",
      "                  (-1.82)                   \n",
      "\n",
      "aidbystick~1                       -202.0*  \n",
      "                                  (-2.30)   \n",
      "\n",
      "aidbystick~2                        641.9   \n",
      "                                   (1.20)   \n",
      "\n",
      "_cons             18184.3***      19393.4***\n",
      "                   (8.68)          (8.69)   \n",
      "--------------------------------------------\n",
      "N                      33              33   \n",
      "--------------------------------------------\n",
      "t statistics in parentheses\n",
      "* p<0.05, ** p<0.01, *** p<0.001\n"
     ]
    }
   ],
   "source": [
    "esttab"
   ]
  },
  {
   "cell_type": "markdown",
   "metadata": {},
   "source": [
    "QUESTION: Is this an acceptable graph to use? Yes or No? Why or why not? I suspect not b/c it is not a [spline].\n",
    "So I take it that I will need to run a different kind of graph that you show in your example?"
   ]
  },
  {
   "cell_type": "markdown",
   "metadata": {},
   "source": [
    "# MAKING A PIECEWISE CUBIC SPLINE"
   ]
  },
  {
   "cell_type": "code",
   "execution_count": 20,
   "metadata": {
    "tags": []
   },
   "outputs": [
    {
     "name": "stdout",
     "output_type": "stream",
     "text": [
      "\n",
      "             |     knot1      knot2      knot3      knot4      knot5 \n",
      "-------------+-------------------------------------------------------\n",
      "x_aid_byst~r |    3.2277    8.91087    27.0714    43.5452    54.2455 \n"
     ]
    }
   ],
   "source": [
    "mkspline aidbysticker3 = x_aid_bysticker, cubic displayknots\n"
   ]
  },
  {
   "cell_type": "code",
   "execution_count": 21,
   "metadata": {
    "tags": []
   },
   "outputs": [
    {
     "name": "stdout",
     "output_type": "stream",
     "text": [
      "\n",
      "      Source |       SS           df       MS      Number of obs   =        33\n",
      "-------------+----------------------------------   F(4, 28)        =      4.75\n",
      "       Model |  891.636663         4  222.909166   Prob > F        =    0.0047\n",
      "    Residual |  1312.84862        28  46.8874507   R-squared       =    0.4045\n",
      "-------------+----------------------------------   Adj R-squared   =    0.3194\n",
      "       Total |  2204.48528        32  68.8901651   Root MSE        =    6.8474\n",
      "\n",
      "------------------------------------------------------------------------------\n",
      "y_lo_inc_rpy | Coefficient  Std. err.      t    P>|t|     [95% conf. interval]\n",
      "-------------+----------------------------------------------------------------\n",
      "aidbystic~31 |  -.2560553    .606245    -0.42   0.676    -1.497892    .9857812\n",
      "aidbystic~32 |    8.10836   8.262949     0.98   0.335    -8.817525    25.03424\n",
      "aidbystic~33 |  -12.76126   12.52356    -1.02   0.317    -38.41462    12.89209\n",
      "aidbystic~34 |   9.492999    8.07683     1.18   0.250    -7.051637    26.03764\n",
      "       _cons |   61.71742   3.703826    16.66   0.000     54.13048    69.30436\n",
      "------------------------------------------------------------------------------\n",
      "(est3 stored)\n"
     ]
    }
   ],
   "source": [
    "eststo: regress y_lo_inc_rpy aidbysticker3*\n"
   ]
  },
  {
   "cell_type": "markdown",
   "metadata": {},
   "source": [
    "NOTE: eststo = saves the results in the database"
   ]
  },
  {
   "cell_type": "code",
   "execution_count": 22,
   "metadata": {
    "tags": []
   },
   "outputs": [
    {
     "name": "stdout",
     "output_type": "stream",
     "text": [
      "(option xb assumed; fitted values)\n"
     ]
    }
   ],
   "source": [
    "predict yhat2"
   ]
  },
  {
   "cell_type": "code",
   "execution_count": 23,
   "metadata": {
    "tags": []
   },
   "outputs": [
    {
     "data": {
      "image/png": "[encoded data removed]",
      "text/plain": [
       "<IPython.core.display.Image object>"
      ]
     },
     "metadata": {},
     "output_type": "display_data"
    }
   ],
   "source": [
    "tw (scatter y_lo_inc_rpy x_aid_bysticker) (line yhat2 x_aid_bysticker, sort color(red) lwidth(thick))\n"
   ]
  },
  {
   "cell_type": "code",
   "execution_count": 24,
   "metadata": {
    "tags": []
   },
   "outputs": [
    {
     "name": "stdout",
     "output_type": "stream",
     "text": [
      "\n",
      "------------------------------------------------------------\n",
      "                      (1)             (2)             (3)   \n",
      "             igrnt_low_~c    igrnt_low_~c    y_lo_inc_rpy   \n",
      "------------------------------------------------------------\n",
      "x_aid_byst~r       -112.6                                   \n",
      "                  (-1.82)                                   \n",
      "\n",
      "aidbystic~r1                       -202.0*                  \n",
      "                                  (-2.30)                   \n",
      "\n",
      "aidbystic~r2                        641.9                   \n",
      "                                   (1.20)                   \n",
      "\n",
      "aidbystic~31                                       -0.256   \n",
      "                                                  (-0.42)   \n",
      "\n",
      "aidbystic~32                                        8.108   \n",
      "                                                   (0.98)   \n",
      "\n",
      "aidbystic~33                                       -12.76   \n",
      "                                                  (-1.02)   \n",
      "\n",
      "aidbystic~34                                        9.493   \n",
      "                                                   (1.18)   \n",
      "\n",
      "_cons             18184.3***      19393.4***        61.72***\n",
      "                   (8.68)          (8.69)         (16.66)   \n",
      "------------------------------------------------------------\n",
      "N                      33              33              33   \n",
      "------------------------------------------------------------\n",
      "t statistics in parentheses\n",
      "* p<0.05, ** p<0.01, *** p<0.001\n"
     ]
    }
   ],
   "source": [
    "esttab"
   ]
  },
  {
   "cell_type": "code",
   "execution_count": 25,
   "metadata": {
    "tags": []
   },
   "outputs": [
    {
     "name": "stdout",
     "output_type": "stream",
     "text": [
      "      name:  <unnamed>\n",
      "       log:  C:\\Users\\rabid\\Desktop\\01_Grad_Stats_II\\soc211_assignments\\week7\\w\n",
      "> 7lesson_log20200304.log\n",
      "  log type:  text\n",
      " closed on:   5 Mar 2024, 22:48:17\n",
      "-------------------------------------------------------------------------------\n"
     ]
    }
   ],
   "source": [
    "log close"
   ]
  },
  {
   "cell_type": "markdown",
   "metadata": {},
   "source": [
    "## 3. Interpret the results [1 pt]\n",
    "\n",
    "    A. Say whether the results support or contradict your hypothesis and why\n",
    "    \n",
    "    B. Say whether a linear or particular non-linear model best describes your data and why"
   ]
  },
  {
   "cell_type": "markdown",
   "metadata": {},
   "source": [
    "A. My results support my hypothesis, that the percent of loan repaid is positively impacted by the amount of aid a\n",
    "provides.\n",
    "\n",
    "B. The piecewise cubic spline best represents my data, where as the linear model and linear spline do not represent the relationship between the variables. This is because the linear spline overfits for the data. However, the cubic linear spline provides a gradual enough series of knots\n",
    "to allow for a cleaner reading of the relationship between the the percent of loan repaid and the amount of aid provided by states."
   ]
  },
  {
   "cell_type": "code",
   "execution_count": null,
   "metadata": {},
   "outputs": [],
   "source": []
  }
 ],
 "metadata": {
  "kernelspec": {
   "display_name": "Stata (nbstata)",
   "language": "stata",
   "name": "nbstata"
  },
  "language_info": {
   "file_extension": ".do",
   "mimetype": "text/x-stata",
   "name": "stata",
   "version": "17"
  }
 },
 "nbformat": 4,
 "nbformat_minor": 4
}
