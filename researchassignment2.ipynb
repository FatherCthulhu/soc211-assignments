{
 "cells": [
  {
   "cell_type": "markdown",
   "metadata": {},
   "source": [
    "## Research assignment 2\n",
    "\n",
    "Andrew Martin\n",
    "\n",
    "[working title of the project] \n",
    "\n",
    "02/08/24"
   ]
  },
  {
   "cell_type": "markdown",
   "metadata": {},
   "source": [
    "### 1. Write a paragraph about your hypotheses\n",
    "\n",
    "[Your answer here should explain:\n",
    "1. My dependent variable is is the attendance status of students.I am looking at this because attendance is an important factor for graduation and degree completition.\n",
    "2. My independent variable is if a student is two or more races. I think that students of two or more race will have a high attendance rate.\n",
    "3. I think that my dependent variables are related to the independent variables because students of two or more races are likely to account for the majority of students attending college.\n",
    "4. My control variable level of student. I do not think it will account for any negative relationship.]"
   ]
  },
  {
   "cell_type": "markdown",
   "metadata": {},
   "source": [
    "### 1. Setting up your session\n",
    "\n",
    "In the code cell below, do the following:\n",
    "\n",
    "1. set current directory \n",
    "2. set more off \n",
    "3. create log file \n",
    "4. download the data from its source if it's available online\n",
    "5. read the data in [preferably only variables you are going to use]"
   ]
  },
  {
   "cell_type": "code",
   "execution_count": 2,
   "metadata": {
    "tags": []
   },
   "outputs": [
    {
     "name": "stdout",
     "output_type": "stream",
     "text": [
      "C:\\Users\\rabid\\Desktop\\01_Grad_Stats_II\\soc211_assignments\\Week04\\01Data\n"
     ]
    }
   ],
   "source": [
    "cd \"C:\\Users\\rabid\\Desktop\\01_Grad_Stats_II\\soc211_assignments\\Week04\\01Data\""
   ]
  },
  {
   "cell_type": "code",
   "execution_count": 3,
   "metadata": {
    "tags": []
   },
   "outputs": [
    {
     "name": "stdout",
     "output_type": "stream",
     "text": [
      "(-set more- irrelevant in this version of Stata)\n"
     ]
    }
   ],
   "source": [
    "set more off"
   ]
  },
  {
   "cell_type": "code",
   "execution_count": 4,
   "metadata": {
    "tags": []
   },
   "outputs": [
    {
     "name": "stdout",
     "output_type": "stream",
     "text": [
      "file\n",
      "    C:\\Users\\rabid\\Desktop\\01_Grad_Stats_II\\soc211_assignments\\Week04\\01Data\\\n",
      "    > Log for Research Assignment 2.log cannot be modified or erased; likely\n",
      "\u001b[31m    cause is read-only directory or file\n",
      "r(608);\u001b[0m\n"
     ]
    }
   ],
   "source": [
    "log using \"Log for Research Assignment 2.log\", replace"
   ]
  },
  {
   "cell_type": "code",
   "execution_count": 5,
   "metadata": {
    "tags": []
   },
   "outputs": [
    {
     "name": "stdout",
     "output_type": "stream",
     "text": [
      "(73 vars, 116,110 obs)\n"
     ]
    }
   ],
   "source": [
    "insheet using \"C:\\Users\\rabid\\Desktop\\01_Grad_Stats_II\\soc211_assignments\\Week04\\01Data\\ef2022a_data_stata.csv\", clear"
   ]
  },
  {
   "cell_type": "markdown",
   "metadata": {},
   "source": [
    "### 2. Browse the data\n",
    "\n",
    "Do the following in separate cells. Do do these in separate cells, you will need to use the right click \"split cell\" option:\n",
    "\n",
    "1. Use \"describe\" to print details about the dataset\n",
    "2. Print the heads and tables of the data using the appropriate magic\n",
    "3. label the unique identifier variable\n",
    "4. Generate a frequency table to show the N for each unit of time if there is data for multiple units in time\n",
    "5. Check for missing data overall and within key categories of analysis (time, independent or dependent variable categories, etc)\n",
    "6. use summarize to create a table with summary statistics for each variable you plan to analyze"
   ]
  },
  {
   "cell_type": "code",
   "execution_count": 6,
   "metadata": {
    "collapsed": true,
    "jupyter": {
     "outputs_hidden": true
    },
    "tags": []
   },
   "outputs": [
    {
     "name": "stdout",
     "output_type": "stream",
     "text": [
      "\n",
      "Contains data\n",
      " Observations:       116,110                  \n",
      "    Variables:            73                  \n",
      "-------------------------------------------------------------------------------\n",
      "Variable      Storage   Display    Value\n",
      "    name         type    format    label      Variable label\n",
      "-------------------------------------------------------------------------------\n",
      "unitid          long    %12.0g                UNITID\n",
      "efalevel        byte    %8.0g                 EFALEVEL\n",
      "line            byte    %8.0g                 LINE\n",
      "section         byte    %8.0g                 SECTION\n",
      "lstudy          byte    %8.0g                 LSTUDY\n",
      "xeftotlt        str1    %9s                   XEFTOTLT\n",
      "eftotlt         long    %12.0g                EFTOTLT\n",
      "xeftotlm        str1    %9s                   XEFTOTLM\n",
      "eftotlm         long    %12.0g                EFTOTLM\n",
      "xeftotlw        str1    %9s                   XEFTOTLW\n",
      "eftotlw         long    %12.0g                EFTOTLW\n",
      "xefaiant        str1    %9s                   XEFAIANT\n",
      "efaiant         int     %8.0g                 EFAIANT\n",
      "xefaianm        str1    %9s                   XEFAIANM\n",
      "efaianm         int     %8.0g                 EFAIANM\n",
      "xefaianw        str1    %9s                   XEFAIANW\n",
      "efaianw         int     %8.0g                 EFAIANW\n",
      "xefasiat        str1    %9s                   XEFASIAT\n",
      "efasiat         int     %8.0g                 EFASIAT\n",
      "xefasiam        str1    %9s                   XEFASIAM\n",
      "efasiam         int     %8.0g                 EFASIAM\n",
      "xefasiaw        str1    %9s                   XEFASIAW\n",
      "efasiaw         int     %8.0g                 EFASIAW\n",
      "xefbkaat        str1    %9s                   XEFBKAAT\n",
      "efbkaat         int     %8.0g                 EFBKAAT\n",
      "xefbkaam        str1    %9s                   XEFBKAAM\n",
      "efbkaam         int     %8.0g                 EFBKAAM\n",
      "xefbkaaw        str1    %9s                   XEFBKAAW\n",
      "efbkaaw         int     %8.0g                 EFBKAAW\n",
      "xefhispt        str1    %9s                   XEFHISPT\n",
      "efhispt         long    %12.0g                EFHISPT\n",
      "xefhispm        str1    %9s                   XEFHISPM\n",
      "efhispm         int     %8.0g                 EFHISPM\n",
      "xefhispw        str1    %9s                   XEFHISPW\n",
      "efhispw         int     %8.0g                 EFHISPW\n",
      "xefnhpit        str1    %9s                   XEFNHPIT\n",
      "efnhpit         int     %8.0g                 EFNHPIT\n",
      "xefnhpim        str1    %9s                   XEFNHPIM\n",
      "efnhpim         int     %8.0g                 EFNHPIM\n",
      "xefnhpiw        str1    %9s                   XEFNHPIW\n",
      "efnhpiw         int     %8.0g                 EFNHPIW\n",
      "xefwhitt        str1    %9s                   XEFWHITT\n",
      "efwhitt         long    %12.0g                EFWHITT\n",
      "xefwhitm        str1    %9s                   XEFWHITM\n",
      "efwhitm         long    %12.0g                EFWHITM\n",
      "xefwhitw        str1    %9s                   XEFWHITW\n",
      "efwhitw         long    %12.0g                EFWHITW\n",
      "xef2mort        str1    %9s                   XEF2MORT\n",
      "ef2mort         int     %8.0g                 EF2MORT\n",
      "xef2morm        str1    %9s                   XEF2MORM\n",
      "ef2morm         int     %8.0g                 EF2MORM\n",
      "xef2morw        str1    %9s                   XEF2MORW\n",
      "ef2morw         int     %8.0g                 EF2MORW\n",
      "xefunknt        str1    %9s                   XEFUNKNT\n",
      "efunknt         long    %12.0g                EFUNKNT\n",
      "xefunknm        str1    %9s                   XEFUNKNM\n",
      "efunknm         int     %8.0g                 EFUNKNM\n",
      "xefunknw        str1    %9s                   XEFUNKNW\n",
      "efunknw         int     %8.0g                 EFUNKNW\n",
      "xefnralt        str1    %9s                   XEFNRALT\n",
      "efnralt         int     %8.0g                 EFNRALT\n",
      "xefnralm        str1    %9s                   XEFNRALM\n",
      "efnralm         int     %8.0g                 EFNRALM\n",
      "xefnralw        str1    %9s                   XEFNRALW\n",
      "efnralw         int     %8.0g                 EFNRALW\n",
      "xefgndru        str1    %9s                   XEFGNDRU\n",
      "efgndrun        int     %8.0g                 EFGNDRUN\n",
      "xefgndra        str1    %9s                   XEFGNDRA\n",
      "efgndran        int     %8.0g                 EFGNDRAN\n",
      "v70             str1    %9s                   XEFGNDRU\n",
      "efgndrua        int     %8.0g                 EFGNDRUA\n",
      "xefgndrk        str1    %9s                   XEFGNDRK\n",
      "efgndrkn        long    %12.0g                EFGNDRKN\n",
      "-------------------------------------------------------------------------------\n",
      "Sorted by: \n",
      "     Note: Dataset has changed since last saved.\n"
     ]
    }
   ],
   "source": [
    "describe"
   ]
  },
  {
   "cell_type": "code",
   "execution_count": 7,
   "metadata": {
    "tags": []
   },
   "outputs": [
    {
     "data": {
      "text/html": [
       "<div>\n",
       "<style scoped>\n",
       "    .dataframe tbody tr th:only-of-type {\n",
       "        vertical-align: middle;\n",
       "    }\n",
       "\n",
       "    .dataframe tbody tr th {\n",
       "        vertical-align: top;\n",
       "    }\n",
       "\n",
       "    .dataframe thead th {\n",
       "        text-align: right;\n",
       "    }\n",
       "</style>\n",
       "<table border=\"1\" class=\"dataframe\">\n",
       "  <thead>\n",
       "    <tr style=\"text-align: right;\">\n",
       "      <th></th>\n",
       "      <th>unitid</th>\n",
       "    </tr>\n",
       "  </thead>\n",
       "  <tbody>\n",
       "    <tr>\n",
       "      <th>1</th>\n",
       "      <td>100654</td>\n",
       "    </tr>\n",
       "    <tr>\n",
       "      <th>2</th>\n",
       "      <td>100654</td>\n",
       "    </tr>\n",
       "    <tr>\n",
       "      <th>3</th>\n",
       "      <td>100654</td>\n",
       "    </tr>\n",
       "    <tr>\n",
       "      <th>4</th>\n",
       "      <td>100654</td>\n",
       "    </tr>\n",
       "    <tr>\n",
       "      <th>5</th>\n",
       "      <td>100654</td>\n",
       "    </tr>\n",
       "  </tbody>\n",
       "</table>\n",
       "</div>"
      ]
     },
     "metadata": {},
     "output_type": "display_data"
    }
   ],
   "source": [
    "%head unitid"
   ]
  },
  {
   "cell_type": "code",
   "execution_count": 8,
   "metadata": {
    "tags": []
   },
   "outputs": [
    {
     "data": {
      "text/html": [
       "<div>\n",
       "<style scoped>\n",
       "    .dataframe tbody tr th:only-of-type {\n",
       "        vertical-align: middle;\n",
       "    }\n",
       "\n",
       "    .dataframe tbody tr th {\n",
       "        vertical-align: top;\n",
       "    }\n",
       "\n",
       "    .dataframe thead th {\n",
       "        text-align: right;\n",
       "    }\n",
       "</style>\n",
       "<table border=\"1\" class=\"dataframe\">\n",
       "  <thead>\n",
       "    <tr style=\"text-align: right;\">\n",
       "      <th></th>\n",
       "      <th>unitid</th>\n",
       "    </tr>\n",
       "  </thead>\n",
       "  <tbody>\n",
       "    <tr>\n",
       "      <th>116106</th>\n",
       "      <td>498571</td>\n",
       "    </tr>\n",
       "    <tr>\n",
       "      <th>116107</th>\n",
       "      <td>498571</td>\n",
       "    </tr>\n",
       "    <tr>\n",
       "      <th>116108</th>\n",
       "      <td>498571</td>\n",
       "    </tr>\n",
       "    <tr>\n",
       "      <th>116109</th>\n",
       "      <td>498571</td>\n",
       "    </tr>\n",
       "    <tr>\n",
       "      <th>116110</th>\n",
       "      <td>498571</td>\n",
       "    </tr>\n",
       "  </tbody>\n",
       "</table>\n",
       "</div>"
      ]
     },
     "metadata": {},
     "output_type": "display_data"
    }
   ],
   "source": [
    "%tail unitid"
   ]
  },
  {
   "cell_type": "code",
   "execution_count": 9,
   "metadata": {
    "tags": []
   },
   "outputs": [
    {
     "name": "stdout",
     "output_type": "stream",
     "text": [
      "\n",
      "Variable      Storage   Display    Value\n",
      "    name         type    format    label      Variable label\n",
      "-------------------------------------------------------------------------------\n",
      "unitid          long    %12.0g                UNITID\n"
     ]
    }
   ],
   "source": [
    "describe unitid"
   ]
  },
  {
   "cell_type": "code",
   "execution_count": 10,
   "metadata": {
    "tags": []
   },
   "outputs": [],
   "source": [
    "label var unitid \"Identification Number of Institution\""
   ]
  },
  {
   "cell_type": "code",
   "execution_count": 11,
   "metadata": {
    "tags": []
   },
   "outputs": [
    {
     "name": "stdout",
     "output_type": "stream",
     "text": [
      "\n",
      "-------------------------------------------------------------------------------\n",
      "unitid                                     Identification Number of Institution\n",
      "-------------------------------------------------------------------------------\n",
      "\n",
      "                  Type: Numeric (long)\n",
      "\n",
      "                 Range: [100654,498571]               Units: 1\n",
      "         Unique values: 5,978                     Missing .: 0/116,110\n",
      "\n",
      "                  Mean: 263742\n",
      "             Std. dev.: 132273\n",
      "\n",
      "           Percentiles:    10%       25%       50%       75%       90%\n",
      "                        129756    163268    210331    420538    481401\n"
     ]
    }
   ],
   "source": [
    "codebook unitid"
   ]
  },
  {
   "cell_type": "code",
   "execution_count": 12,
   "metadata": {
    "tags": []
   },
   "outputs": [
    {
     "data": {
      "text/html": [
       "\n",
       "<html>\n",
       "<head>\n",
       "<meta content=\"noindex, nofollow\" name=\"robots\"/>\n",
       "<title>Stata 18 help for frequency</title>\n",
       "<link href=\"/includes/css/stylehelp.css\" rel=\"stylesheet\" type=\"text/css\"/>\n",
       "<style type=\"text/css\">h2 {\n",
       "    font-family: Arial,Helvetica,Helv,sans-serif;\n",
       "    color: #000000;\n",
       "}\n",
       "\n",
       "pre {\n",
       "    margin: 10px;\n",
       "}\n",
       "\n",
       "table {\n",
       "    background-color: transparent;\n",
       "    border-color: transparent;\n",
       "    bgcolor: transparent;\n",
       "}\n",
       "\n",
       "tr {\n",
       "    background-color: transparent;\n",
       "    border-color: transparent;\n",
       "    bgcolor: transparent;\n",
       "}\n",
       "\n",
       "body {\n",
       "    background-color: transparent;\n",
       "    border-color: transparent;\n",
       "    margin: 0px;\n",
       "}\n",
       "\n",
       "div {\n",
       "    background-color: transparent;\n",
       "    border-color: transparent;\n",
       "}\n",
       "</style>\n",
       "</head>\n",
       "<body>\n",
       "\n",
       "<p><table align=\"center\" bgcolor=\"transparent\" border=\"1\" cellpadding=\"5\" cellspacing=\"0\">\n",
       "<tr bgcolor=\"transparent\"><td align=\"left\" bgcolor=\"transparent\" valign=\"top\">\n",
       "<!-- END HEAD -->\n",
       "\n",
       "<pre>\n",
       "help for <b>frequency</b> not found\n",
       "try <a href=\"https://www.stata.com/help.cgi?contents\" target=\"_blank\">help contents</a> or <a href=\"https://www.stata.com/search.cgi?query=frequency\" target=\"_blank\">search frequency</a>\n",
       "</pre>\n",
       "<!-- BEGIN FOOT -->\n",
       "</td></tr></table>\n",
       "\n",
       "\n",
       "\n",
       "</p></body>\n",
       "</html>\n"
      ],
      "text/plain": [
       "This front-end cannot display HTML help."
      ]
     },
     "metadata": {},
     "output_type": "display_data"
    }
   ],
   "source": [
    "%help frequency"
   ]
  },
  {
   "cell_type": "markdown",
   "metadata": {},
   "source": [
    "4. There is no frequency table to run for this data because it is cross-sectional rather than panel."
   ]
  },
  {
   "cell_type": "code",
   "execution_count": 13,
   "metadata": {
    "tags": []
   },
   "outputs": [
    {
     "name": "stdout",
     "output_type": "stream",
     "text": [
      "checking mdesc consistency and verifying not already installed...\n",
      "all files already exist and are up to date.\n"
     ]
    }
   ],
   "source": [
    "ssc install mdesc"
   ]
  },
  {
   "cell_type": "code",
   "execution_count": 14,
   "metadata": {
    "tags": []
   },
   "outputs": [
    {
     "name": "stdout",
     "output_type": "stream",
     "text": [
      "\n",
      "    Variable    |     Missing          Total     Percent Missing\n",
      "----------------+-----------------------------------------------\n",
      "       efalevel |           0        116,110           0.00\n",
      "----------------+-----------------------------------------------\n"
     ]
    }
   ],
   "source": [
    "mdesc efalevel"
   ]
  },
  {
   "cell_type": "code",
   "execution_count": 15,
   "metadata": {
    "tags": []
   },
   "outputs": [
    {
     "name": "stdout",
     "output_type": "stream",
     "text": [
      "\n",
      "    Variable    |     Missing          Total     Percent Missing\n",
      "----------------+-----------------------------------------------\n",
      "        ef2mort |           0        116,110           0.00\n",
      "----------------+-----------------------------------------------\n"
     ]
    }
   ],
   "source": [
    "mdesc ef2mort"
   ]
  },
  {
   "cell_type": "code",
   "execution_count": 16,
   "metadata": {
    "tags": []
   },
   "outputs": [
    {
     "name": "stdout",
     "output_type": "stream",
     "text": [
      "\n",
      "    Variable    |     Missing          Total     Percent Missing\n",
      "----------------+-----------------------------------------------\n",
      "        section |           0        116,110           0.00\n",
      "----------------+-----------------------------------------------\n"
     ]
    }
   ],
   "source": [
    "mdesc section"
   ]
  },
  {
   "cell_type": "code",
   "execution_count": 17,
   "metadata": {
    "tags": []
   },
   "outputs": [
    {
     "name": "stdout",
     "output_type": "stream",
     "text": [
      "\n",
      "    Variable |        Obs        Mean    Std. dev.       Min        Max\n",
      "-------------+---------------------------------------------------------\n",
      "    efalevel |    116,110    25.71507    17.45907          1         60\n"
     ]
    }
   ],
   "source": [
    "summarize efalevel"
   ]
  },
  {
   "cell_type": "code",
   "execution_count": 18,
   "metadata": {
    "tags": []
   },
   "outputs": [
    {
     "name": "stdout",
     "output_type": "stream",
     "text": [
      "\n",
      "    Variable |        Obs        Mean    Std. dev.       Min        Max\n",
      "-------------+---------------------------------------------------------\n",
      "     ef2mort |    116,110    54.87626      179.11          0       5170\n"
     ]
    }
   ],
   "source": [
    "summarize ef2mort"
   ]
  },
  {
   "cell_type": "code",
   "execution_count": 19,
   "metadata": {
    "tags": []
   },
   "outputs": [
    {
     "name": "stdout",
     "output_type": "stream",
     "text": [
      "\n",
      "    Variable |        Obs        Mean    Std. dev.       Min        Max\n",
      "-------------+---------------------------------------------------------\n",
      "     section |    116,110    2.008742    .8519502          1          3\n"
     ]
    }
   ],
   "source": [
    "summarize section"
   ]
  },
  {
   "cell_type": "markdown",
   "metadata": {},
   "source": [
    "### 3. Write a note summarizing what you learned from browsing the data\n",
    "\n",
    "[The data I am using is data pulled from higher education institutions on October 15th. The data is a collection of student enrollment in fall by race/ethnicity, gender, attendance status (full or part-time), and level of student. This data is not tracked over multiple years because it is cross-sectional data rather than paneldata.]"
   ]
  },
  {
   "cell_type": "markdown",
   "metadata": {},
   "source": [
    "### 4. Create univariate histograms of interval ratio variables you plan to analyze.\n",
    "\n",
    "Write at least 3 forloops to generate histograms for all the variables you plan to analyze. Create titles for each histogram that notes whether it is a dependent, independent, or control variable (you can also note in titles whether control vars control for spurious, intervening, or interactive relationships). Begin with your dependent variables. Then make a note below to describe the shapes of the distributions and their implications for your study.\n",
    "\n",
    "[The level of student (control variable) tracks full- and part-time status, whether the student is degree seeking or not, a1nd year of study the student is in. This variable appears to have similar patterns imerging within major clusterings.]\n",
    "[The attendance status of students (dependent variable) defines whether students are full or part time.]\n",
    "[Students identified as being two or more races (independent variable) enrolled for courses in the fall shows that the majority of students identify as being two or more races.]\n",
    "[... What does this mean for the study I am doing?...]"
   ]
  },
  {
   "cell_type": "code",
   "execution_count": 20,
   "metadata": {
    "tags": []
   },
   "outputs": [
    {
     "name": "stdout",
     "output_type": "stream",
     "text": [
      "(bin=50, start=1, width=1.18)\n"
     ]
    },
    {
     "data": {
      "image/png": "[encoded data removed]",
      "text/plain": [
       "<IPython.core.display.Image object>"
      ]
     },
     "metadata": {},
     "output_type": "display_data"
    }
   ],
   "source": [
    "histogram efalevel, xtitle(Level of Student - Control Variable - Control)"
   ]
  },
  {
   "cell_type": "code",
   "execution_count": 21,
   "metadata": {
    "tags": []
   },
   "outputs": [
    {
     "name": "stdout",
     "output_type": "stream",
     "text": [
      "(bin=50, start=1, width=.04)\n"
     ]
    },
    {
     "data": {
      "image/png": "[encoded data removed]",
      "text/plain": [
       "<IPython.core.display.Image object>"
      ]
     },
     "metadata": {},
     "output_type": "display_data"
    }
   ],
   "source": [
    "histogram section, xtitle(Attendance Status of Student - Dependent Variable)"
   ]
  },
  {
   "cell_type": "code",
   "execution_count": 22,
   "metadata": {
    "tags": []
   },
   "outputs": [
    {
     "name": "stdout",
     "output_type": "stream",
     "text": [
      "(bin=50, start=0, width=103.4)\n"
     ]
    },
    {
     "data": {
      "image/png": "[encoded data removed]",
      "text/plain": [
       "<IPython.core.display.Image object>"
      ]
     },
     "metadata": {},
     "output_type": "display_data"
    }
   ],
   "source": [
    "histogram ef2mort, xtitle(Two or More Races Total - Independent Variable)"
   ]
  },
  {
   "cell_type": "markdown",
   "metadata": {},
   "source": [
    "### 5. Create univariate count and % frequency tables for all categorical (nominal) variables you plan to analyze\n",
    "\n",
    "Again, use forloops. Then write a note below with a narrative summary of the distributions and their implications for your study.\n",
    "\n",
    "[your note here]"
   ]
  },
  {
   "cell_type": "code",
   "execution_count": 23,
   "metadata": {
    "tags": []
   },
   "outputs": [
    {
     "name": "stdout",
     "output_type": "stream",
     "text": [
      "(0 real changes made)\n",
      "\n",
      "   EFALEVEL |      Freq.     Percent        Cum.\n",
      "------------+-----------------------------------\n",
      "          1 |      5,978        5.15        5.15\n",
      "          2 |      5,706        4.91       10.06\n",
      "          3 |      5,703        4.91       14.97\n",
      "          4 |      5,504        4.74       19.71\n",
      "          5 |      5,696        4.91       24.62\n",
      "         11 |      2,803        2.41       27.03\n",
      "         12 |      2,049        1.76       28.80\n",
      "         19 |      3,525        3.04       31.84\n",
      "         20 |      5,685        4.90       36.73\n",
      "         21 |      5,928        5.11       41.84\n",
      "         22 |      5,647        4.86       46.70\n",
      "         23 |      5,645        4.86       51.56\n",
      "         24 |      5,418        4.67       56.23\n",
      "         25 |      5,632        4.85       61.08\n",
      "         31 |      2,257        1.94       63.02\n",
      "         32 |      2,000        1.72       64.75\n",
      "         39 |      3,487        3.00       67.75\n",
      "         40 |      5,620        4.84       72.59\n",
      "         41 |      4,454        3.84       76.42\n",
      "         42 |      4,196        3.61       80.04\n",
      "         43 |      4,163        3.59       83.62\n",
      "         44 |      3,353        2.89       86.51\n",
      "         45 |      4,155        3.58       90.09\n",
      "         51 |      2,696        2.32       92.41\n",
      "         52 |      1,893        1.63       94.04\n",
      "         59 |      2,777        2.39       96.43\n",
      "         60 |      4,140        3.57      100.00\n",
      "------------+-----------------------------------\n",
      "      Total |    116,110      100.00\n",
      "(0 real changes made)\n",
      "\n",
      "    SECTION |      Freq.     Percent        Cum.\n",
      "------------+-----------------------------------\n",
      "          1 |     41,634       35.86       35.86\n",
      "          2 |     31,827       27.41       63.27\n",
      "          3 |     42,649       36.73      100.00\n",
      "------------+-----------------------------------\n",
      "      Total |    116,110      100.00\n"
     ]
    }
   ],
   "source": [
    "foreach x of varlist efalevel section {\n",
    "    replace `x'=. if `x'==.i | `x'==.n | `x'==.d\n",
    "    tab `x', missing\n",
    "}"
   ]
  },
  {
   "cell_type": "markdown",
   "metadata": {},
   "source": [
    "### 6. Make a relevant bivariate table and graph for your study\n",
    "\n",
    "Make the appropriate a) bivariate table and b) graph dependening on whether your dependent variable is nominal/categorical or interval ratio. If your dependent variable is nominal, make sure it is the row variable in the table. If your independent variable is interval ratio, convert it into an ordinal variable by creating a new variable with 3 to 5 categories each with an equal range of the interval ratio variable. Then use the new ordinal variable as your independent variable in the bivariate table and graph."
   ]
  },
  {
   "cell_type": "markdown",
   "metadata": {},
   "source": [
    "Dependent Variable = Attendance Status ofStudent --> Nominal --> Row variable in table"
   ]
  },
  {
   "cell_type": "code",
   "execution_count": 24,
   "metadata": {
    "tags": []
   },
   "outputs": [
    {
     "name": "stdout",
     "output_type": "stream",
     "text": [
      "\n",
      "           |             SECTION\n",
      "  EFALEVEL |         1          2          3 |     Total\n",
      "-----------+---------------------------------+----------\n",
      "         1 |         0          0      5,978 |     5,978 \n",
      "         2 |         0          0      5,706 |     5,706 \n",
      "         3 |         0          0      5,703 |     5,703 \n",
      "         4 |         0          0      5,504 |     5,504 \n",
      "         5 |         0          0      5,696 |     5,696 \n",
      "        11 |         0          0      2,803 |     2,803 \n",
      "        12 |         0          0      2,049 |     2,049 \n",
      "        19 |         0          0      3,525 |     3,525 \n",
      "        20 |         0          0      5,685 |     5,685 \n",
      "        21 |     5,928          0          0 |     5,928 \n",
      "        22 |     5,647          0          0 |     5,647 \n",
      "        23 |     5,645          0          0 |     5,645 \n",
      "        24 |     5,418          0          0 |     5,418 \n",
      "        25 |     5,632          0          0 |     5,632 \n",
      "        31 |     2,257          0          0 |     2,257 \n",
      "        32 |     2,000          0          0 |     2,000 \n",
      "        39 |     3,487          0          0 |     3,487 \n",
      "        40 |     5,620          0          0 |     5,620 \n",
      "        41 |         0      4,454          0 |     4,454 \n",
      "        42 |         0      4,196          0 |     4,196 \n",
      "        43 |         0      4,163          0 |     4,163 \n",
      "        44 |         0      3,353          0 |     3,353 \n",
      "        45 |         0      4,155          0 |     4,155 \n",
      "        51 |         0      2,696          0 |     2,696 \n",
      "        52 |         0      1,893          0 |     1,893 \n",
      "        59 |         0      2,777          0 |     2,777 \n",
      "        60 |         0      4,140          0 |     4,140 \n",
      "-----------+---------------------------------+----------\n",
      "     Total |    41,634     31,827     42,649 |   116,110 \n"
     ]
    }
   ],
   "source": [
    "tab efalevel section"
   ]
  },
  {
   "cell_type": "code",
   "execution_count": 25,
   "metadata": {
    "tags": []
   },
   "outputs": [
    {
     "name": "stdout",
     "output_type": "stream",
     "text": [
      "\n",
      "    EF2MORT |      Freq.     Percent        Cum.\n",
      "------------+-----------------------------------\n",
      "          0 |          8       20.00       20.00\n",
      "          4 |          5       12.50       32.50\n",
      "          5 |          2        5.00       37.50\n",
      "         10 |          1        2.50       40.00\n",
      "         23 |          2        5.00       45.00\n",
      "         34 |          1        2.50       47.50\n",
      "         38 |          1        2.50       50.00\n",
      "         39 |          1        2.50       52.50\n",
      "         43 |          1        2.50       55.00\n",
      "         48 |          1        2.50       57.50\n",
      "         62 |          3        7.50       65.00\n",
      "         66 |          3        7.50       72.50\n",
      "        121 |          1        2.50       75.00\n",
      "        123 |          1        2.50       77.50\n",
      "        188 |          1        2.50       80.00\n",
      "        456 |          1        2.50       82.50\n",
      "        504 |          1        2.50       85.00\n",
      "        527 |          1        2.50       87.50\n",
      "        529 |          1        2.50       90.00\n",
      "        627 |          1        2.50       92.50\n",
      "        637 |          1        2.50       95.00\n",
      "        657 |          1        2.50       97.50\n",
      "        825 |          1        2.50      100.00\n",
      "------------+-----------------------------------\n",
      "      Total |         40      100.00\n"
     ]
    }
   ],
   "source": [
    "tab ef2mort in 1/40"
   ]
  },
  {
   "cell_type": "code",
   "execution_count": 26,
   "metadata": {
    "tags": []
   },
   "outputs": [
    {
     "name": "stdout",
     "output_type": "stream",
     "text": [
      "\n",
      "    Variable |        Obs        Mean    Std. dev.       Min        Max\n",
      "-------------+---------------------------------------------------------\n",
      "     ef2mort |    116,110    54.87626      179.11          0       5170\n"
     ]
    }
   ],
   "source": [
    "summarize ef2mort"
   ]
  },
  {
   "cell_type": "code",
   "execution_count": 27,
   "metadata": {
    "tags": []
   },
   "outputs": [
    {
     "data": {
      "image/png": "[encoded data removed]",
      "text/plain": [
       "<IPython.core.display.Image object>"
      ]
     },
     "metadata": {},
     "output_type": "display_data"
    }
   ],
   "source": [
    "graph hbar ef2mort, over (section)"
   ]
  },
  {
   "cell_type": "markdown",
   "metadata": {
    "tags": []
   },
   "source": [
    "### 7. Create partial bivariate tables and graphs\n",
    "\n",
    "For the bivariate table and graph you made for problem 6, split both into partial tables and graphs using one of your nominal/categorical control variables. If your control variable is interval ratio, convert it into an ordinal variable by creating a variable with 3 to 5 categories each with an equal range of the interval ratio variable.  Then use the new ordinal variable as your control variable to create the partial tables and graphs."
   ]
  },
  {
   "cell_type": "code",
   "execution_count": null,
   "metadata": {},
   "outputs": [],
   "source": [
    "NOTE: Jupyterlabs no longer recognizes the variables I am running. I have restarted the kernel, re-ran all prior code. Resolving this is something outside of my scope of understanding of Jupyterlabs."
   ]
  },
  {
   "cell_type": "code",
   "execution_count": 7,
   "metadata": {
    "tags": []
   },
   "outputs": [
    {
     "name": "stdout",
     "output_type": "stream",
     "text": [
      "\u001b[31mno variables defined\n",
      "r(111);\u001b[0m\n"
     ]
    }
   ],
   "source": [
    "codebook efalevel\n",
    "sum efalevel"
   ]
  },
  {
   "cell_type": "code",
   "execution_count": 4,
   "metadata": {
    "tags": []
   },
   "outputs": [
    {
     "name": "stdout",
     "output_type": "stream",
     "text": [
      "\u001b[31mno variables defined\n",
      "r(111);\u001b[0m\n"
     ]
    }
   ],
   "source": [
    "codebook section\n",
    "sum section"
   ]
  },
  {
   "cell_type": "code",
   "execution_count": 6,
   "metadata": {
    "tags": []
   },
   "outputs": [
    {
     "name": "stdout",
     "output_type": "stream",
     "text": [
      "\u001b[31mno variables defined\n",
      "r(111);\u001b[0m\n"
     ]
    }
   ],
   "source": [
    "codebook ef2mort\n",
    "sum ef2more"
   ]
  },
  {
   "cell_type": "code",
   "execution_count": 8,
   "metadata": {
    "tags": []
   },
   "outputs": [
    {
     "name": "stdout",
     "output_type": "stream",
     "text": [
      "\u001b[31mno variables defined\n",
      "r(111);\u001b[0m\n"
     ]
    }
   ],
   "source": [
    "graph hbar (mean) section, over(efalevel) by(ef2mort) title(\"Partial Bivaraite Graph\")"
   ]
  },
  {
   "cell_type": "code",
   "execution_count": null,
   "metadata": {
    "tags": []
   },
   "outputs": [],
   "source": [
    "### Interpret of your bivariate and partial tables and graphs\n",
    "\n",
    "Is there a relationship between your dependent and independent variables? Is it weak, strong, or non-existent? Do adding controls reveal any spurious, intervening, or interactive relationships? Do they conform with your hypotheses? If not, do you have any ideas for why and how you might test the reason why?"
   ]
  },
  {
   "cell_type": "code",
   "execution_count": null,
   "metadata": {},
   "outputs": [],
   "source": [
    "It is unclear if there is a relationship betweenthe dependent and independent variableas there appears to be issues with generating certain tables and graphs consistently. This is likely because one of the variables is not compatible with another in its current iteration and it is unclear how to refine these variables into something that can be coherenetly operationalized. Due to variables becoming undefined it is unclear if there is any spurious, intervening, or interactive relationships. It is also unclear if the variables conform or not."
   ]
  }
 ],
 "metadata": {
  "kernelspec": {
   "display_name": "Stata (nbstata)",
   "language": "stata",
   "name": "nbstata"
  },
  "language_info": {
   "file_extension": ".do",
   "mimetype": "text/x-stata",
   "name": "stata",
   "version": "17"
  }
 },
 "nbformat": 4,
 "nbformat_minor": 4
}
